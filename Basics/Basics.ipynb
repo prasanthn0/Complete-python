{
 "cells": [
  {
   "cell_type": "code",
   "execution_count": 1,
   "metadata": {},
   "outputs": [
    {
     "name": "stdout",
     "output_type": "stream",
     "text": [
      "hi\n"
     ]
    }
   ],
   "source": [
    "print('hi')#comment"
   ]
  },
  {
   "cell_type": "code",
   "execution_count": 2,
   "metadata": {},
   "outputs": [
    {
     "name": "stdout",
     "output_type": "stream",
     "text": [
      "comment will not be printed if it is after #\n"
     ]
    }
   ],
   "source": [
    "print('comment will not be printed if it is after #')#print me "
   ]
  },
  {
   "cell_type": "code",
   "execution_count": 3,
   "metadata": {},
   "outputs": [
    {
     "name": "stdout",
     "output_type": "stream",
     "text": [
      "This is a simple program\n",
      "\n",
      "Enter your name: Prashanth\n",
      "Hello Prashanth\n"
     ]
    }
   ],
   "source": [
    "print('This is a simple program')\n",
    "print()\n",
    "name=input('Enter your name: ')\n",
    "print(\"Hello\",name)"
   ]
  },
  {
   "cell_type": "code",
   "execution_count": 4,
   "metadata": {},
   "outputs": [
    {
     "name": "stdout",
     "output_type": "stream",
     "text": [
      "Hello How are you ?\n"
     ]
    }
   ],
   "source": [
    "#Multiple strings in print statement.\n",
    "\n",
    "s1=\"Hello\"\n",
    "s2=\"How\"\n",
    "s3=\"are\"\n",
    "s4=\"you\"\n",
    "a=6\n",
    "print(s1,s2,s3,s4,\"?\")"
   ]
  },
  {
   "cell_type": "code",
   "execution_count": 5,
   "metadata": {},
   "outputs": [
    {
     "name": "stdout",
     "output_type": "stream",
     "text": [
      "Enter your first name Prashanth\n",
      "Enter your last name N\n",
      "Hello Prashanth N\n"
     ]
    }
   ],
   "source": [
    "#chal 1\n",
    "\n",
    "Firstname=input(\"Enter your first name \")\n",
    "lastname=input(\"Enter your last name \")\n",
    "print(\"Hello\",Firstname,lastname)"
   ]
  },
  {
   "cell_type": "code",
   "execution_count": 6,
   "metadata": {},
   "outputs": [
    {
     "name": "stdout",
     "output_type": "stream",
     "text": [
      "What do u call a bear with no teeth ? \n",
      "A gummy bear\n"
     ]
    }
   ],
   "source": [
    "#chal 2 Newline printing\n",
    "\n",
    "print('What do u call a bear with no teeth ? \\nA gummy bear')"
   ]
  },
  {
   "cell_type": "code",
   "execution_count": 8,
   "metadata": {},
   "outputs": [
    {
     "name": "stdout",
     "output_type": "stream",
     "text": [
      "Enter your first number 4\n",
      "Enter your second number 7\n",
      "The total is 11\n"
     ]
    }
   ],
   "source": [
    "#chal 3 A simple program\n",
    "\n",
    "a=int(input('Enter your first number '))\n",
    "b=int(input('Enter your second number '))\n",
    "sum=a+b\n",
    "print('The total is',sum)\n"
   ]
  },
  {
   "cell_type": "code",
   "execution_count": null,
   "metadata": {},
   "outputs": [],
   "source": [
    "#chal 4 : .format in print statement using {}\n",
    "\n",
    "a=int(input('Hi, how many slices of pizza did you start with '))\n",
    "b=int(input('How many slices did you eat '))\n",
    "rem=a-b\n",
    "print(\"You have {} slices left\".format(rem))   # {} will get replaced by rem"
   ]
  },
  {
   "cell_type": "code",
   "execution_count": 9,
   "metadata": {},
   "outputs": [
    {
     "name": "stdout",
     "output_type": "stream",
     "text": [
      "What is the total price of the bill? 878\n",
      "How many diners? 3\n",
      "Amount to be paid by each diner is  292.6666666666667\n"
     ]
    }
   ],
   "source": [
    "#chal 5\n",
    "\n",
    "price=float(input(\"What is the total price of the bill? \"))\n",
    "diner=int(input(\"How many diners? \"))\n",
    "amount=price/diner\n",
    "print(\"Amount to be paid by each diner is \",amount)"
   ]
  },
  {
   "cell_type": "code",
   "execution_count": 10,
   "metadata": {},
   "outputs": [
    {
     "name": "stdout",
     "output_type": "stream",
     "text": [
      "Enter the number of days 56\n",
      "56.0 days have 1344.0 hours or 80640.0 minutes or 4838400.0 seconds\n"
     ]
    }
   ],
   "source": [
    "#chal 6 .format with multiple arguments\n",
    "\n",
    "days=float(input(\"Enter the number of days \"))\n",
    "hours=days*24\n",
    "minutes=hours*60\n",
    "seconds=minutes*60\n",
    "print(\"{} days have {} hours or {} minutes or {} seconds\".format(days,hours,minutes,seconds))"
   ]
  },
  {
   "cell_type": "code",
   "execution_count": 12,
   "metadata": {},
   "outputs": [
    {
     "name": "stdout",
     "output_type": "stream",
     "text": [
      "Enter first number 23\n",
      "Enter second number 89\n",
      "23 89\n"
     ]
    }
   ],
   "source": [
    "#chal 7 if-else statement :\n",
    "\n",
    "a=int(input(\"Enter first number \"))\n",
    "b=int(input(\"Enter second number \"))\n",
    "if a>b:\n",
    "    print(b,a)\n",
    "else:\n",
    "    print(a,b)\n",
    "\n"
   ]
  },
  {
   "cell_type": "code",
   "execution_count": 13,
   "metadata": {},
   "outputs": [
    {
     "name": "stdout",
     "output_type": "stream",
     "text": [
      "What is your favortie color? Yellow\n",
      "Yellow is not my favorite color, I prefer Red\n"
     ]
    }
   ],
   "source": [
    "#chal 8 Using or within if condition:\n",
    "\n",
    "col=input(\"What is your favortie color? \")\n",
    "if col=='RED'or col=='Red'or col=='red':\n",
    "    print(\"Red is my favorite color too\" )\n",
    "else:\n",
    "    print(col,\"is not my favorite color, I prefer Red\")"
   ]
  },
  {
   "cell_type": "code",
   "execution_count": 15,
   "metadata": {},
   "outputs": [
    {
     "name": "stdout",
     "output_type": "stream",
     "text": [
      "ENter your name : prashanth\n",
      "The length of your name is  9\n"
     ]
    }
   ],
   "source": [
    "#chal 9 len() built-in function to find the length of a string\n",
    "\n",
    "name=input(\"ENter your name : \")\n",
    "leng=len(name)\n",
    "print(\"The length of your name is \",leng)"
   ]
  },
  {
   "cell_type": "code",
   "execution_count": 17,
   "metadata": {},
   "outputs": [
    {
     "name": "stdout",
     "output_type": "stream",
     "text": [
      "Enter your First name : sachin\n",
      "Enter your sur name : tendulkar\n",
      "sachin tendulkar\n"
     ]
    }
   ],
   "source": [
    "#chal 10 String concatenation using +\n",
    "\n",
    "firstname=input(\"Enter your First name : \")\n",
    "surname=input(\"Enter your sur name : \")\n",
    "fullname=firstname + \" \" + surname\n",
    "print(fullname)"
   ]
  },
  {
   "cell_type": "code",
   "execution_count": 18,
   "metadata": {},
   "outputs": [
    {
     "name": "stdout",
     "output_type": "stream",
     "text": [
      "Enter your First name : sachin\n",
      "Enter your sur name : tendulkar\n",
      "Sachin Tendulkar\n"
     ]
    }
   ],
   "source": [
    "#chal 11 title() function : Caps the first letter of every word in the string -  STRING OPERATION\n",
    "\n",
    "firstname=input(\"Enter your First name : \")\n",
    "surname=input(\"Enter your sur name : \")\n",
    "fullname=firstname + \" \" + surname\n",
    "fullname= fullname.title()\n",
    "print(fullname)"
   ]
  },
  {
   "cell_type": "code",
   "execution_count": 19,
   "metadata": {},
   "outputs": [
    {
     "name": "stdout",
     "output_type": "stream",
     "text": [
      "Enter your First name : 1sachin\n",
      "Enter your sur name : tendulkar\n",
      "1Sachin Tendulkar\n"
     ]
    }
   ],
   "source": [
    "#chal 12 Quirks: What if first letter is a number?\n",
    "\n",
    "firstname=input(\"Enter your First name : \")\n",
    "surname=input(\"Enter your sur name : \")\n",
    "fullname=firstname + \" \" + surname\n",
    "fullname= fullname.title()\n",
    "print(fullname)"
   ]
  },
  {
   "cell_type": "markdown",
   "metadata": {},
   "source": [
    "title() will ignore the number and capitalizes the first alphabet it can find"
   ]
  },
  {
   "cell_type": "code",
   "execution_count": 20,
   "metadata": {},
   "outputs": [
    {
     "name": "stdout",
     "output_type": "stream",
     "text": [
      "Enter your name : PRASHANTH\n",
      "prashanth\n"
     ]
    }
   ],
   "source": [
    "#chal 13 lower() and upper()\n",
    "\n",
    "name=input(\"Enter your name : \")\n",
    "name_len=len(name)\n",
    "if name_len<5:\n",
    "    surname=input(\"Enter your surname : \")\n",
    "    fullname=name+surname\n",
    "    fullname=fullname.upper()     # changes every letter into upper case\n",
    "    print(fullname)\n",
    "else:\n",
    "    name=name.lower()   # makes every letter into lower case\n",
    "    print(name)"
   ]
  },
  {
   "cell_type": "code",
   "execution_count": 23,
   "metadata": {},
   "outputs": [
    {
     "name": "stdout",
     "output_type": "stream",
     "text": [
      "Enter your name : jon\n",
      "Enter your surname : snow\n",
      "JON SNOW\n"
     ]
    }
   ],
   "source": [
    "#chal 13 lower() and upper()\n",
    "\n",
    "#example 2 :\n",
    "\n",
    "name=input(\"Enter your name : \")\n",
    "name_len=len(name)\n",
    "if name_len<5:\n",
    "    surname=input(\"Enter your surname : \")\n",
    "    fullname=name+' '+surname\n",
    "    fullname=fullname.upper()     # changes every letter into upper case\n",
    "    print(fullname)\n",
    "else:\n",
    "    name=name.lower()   # makes every letter into lower case\n",
    "    print(name)"
   ]
  },
  {
   "cell_type": "code",
   "execution_count": 24,
   "metadata": {},
   "outputs": [
    {
     "name": "stdout",
     "output_type": "stream",
     "text": [
      "Enter your statement in English : ok lets check if it works\n",
      "['ok', 'lets', 'check', 'if', 'it', 'works']\n",
      "<class 'list'>\n"
     ]
    }
   ],
   "source": [
    "#chal 14 split() : splits a statement of strings into its individual component and adds them to a list\n",
    "\n",
    "conv=input(\"Enter your statement in English : \")\n",
    "conv=conv.split()\n",
    "print(conv)\n",
    "print(type(conv))"
   ]
  },
  {
   "cell_type": "code",
   "execution_count": 27,
   "metadata": {},
   "outputs": [
    {
     "name": "stdout",
     "output_type": "stream",
     "text": [
      "Enter your statement in English : i donot know what this is\n",
      "iway  onotday  nowkay  hatway  histay  isway  "
     ]
    }
   ],
   "source": [
    "#chal 15 More string operations\n",
    "\n",
    "conv=input(\"Enter your statement in English : \")\n",
    "conv=conv.split()\n",
    "\n",
    "for i in conv:\n",
    "    temp=i.lower()\n",
    "    #if temp[0]=='a' or temp[0]=='e'or temp[0]=='i'or temp[0]=='o'or temp[0]=='u':\n",
    "    if temp[0] in ['a','e','i','o','u']:\n",
    "        temp=temp+'way'\n",
    "        print(temp,' ',end='')\n",
    "    else:\n",
    "        leng=len(temp)\n",
    "        new=temp[1:leng]+temp[0]+'ay'\n",
    "        print(new,' ',end='')"
   ]
  },
  {
   "cell_type": "code",
   "execution_count": 29,
   "metadata": {},
   "outputs": [
    {
     "name": "stdout",
     "output_type": "stream",
     "text": [
      "Enter a decimal number : 5\n",
      "5.0\n",
      "The answer is  10.0\n"
     ]
    }
   ],
   "source": [
    "#chal 16 Float data type\n",
    "\n",
    "num=float(input('Enter a decimal number : '))\n",
    "print(num)\n",
    "ans=num*2\n",
    "ans=round(ans,2)\n",
    "print('The answer is ',ans)"
   ]
  },
  {
   "cell_type": "code",
   "execution_count": 30,
   "metadata": {},
   "outputs": [
    {
     "name": "stdout",
     "output_type": "stream",
     "text": [
      "Enter the length of the base : 10\n",
      "\n",
      "\n",
      "100  90  80  70  60  50  40  30  20  10  \n",
      "\n",
      "81  72  63  54  45  36  27  18  9  \n",
      "\n",
      "64  56  48  40  32  24  16  8  \n",
      "\n",
      "49  42  35  28  21  14  7  \n",
      "\n",
      "36  30  24  18  12  6  \n",
      "\n",
      "25  20  15  10  5  \n",
      "\n",
      "16  12  8  4  \n",
      "\n",
      "9  6  3  \n",
      "\n",
      "4  2  \n",
      "\n",
      "1  \n",
      "\n"
     ]
    }
   ],
   "source": [
    "#Reverse triangle\n",
    "\n",
    "dimension=int(input('Enter the length of the base : '))\n",
    "print('\\n')\n",
    "while dimension>=1:\n",
    "    r=list(reversed(range(1,dimension+1)))\n",
    "    #r=list(range(dimension,0,-1))\n",
    "   \n",
    "    elements=[dimension*elem for elem in r]\n",
    "    \n",
    "    for i in range(dimension):\n",
    "        print(elements[i],' ',end='')\n",
    "    print('\\n')\n",
    "    dimension-=1\n",
    "    \n"
   ]
  }
 ],
 "metadata": {
  "kernelspec": {
   "display_name": "Python 3",
   "language": "python",
   "name": "python3"
  },
  "language_info": {
   "codemirror_mode": {
    "name": "ipython",
    "version": 3
   },
   "file_extension": ".py",
   "mimetype": "text/x-python",
   "name": "python",
   "nbconvert_exporter": "python",
   "pygments_lexer": "ipython3",
   "version": "3.8.3"
  }
 },
 "nbformat": 4,
 "nbformat_minor": 4
}
