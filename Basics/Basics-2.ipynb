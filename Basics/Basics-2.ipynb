{
 "cells": [
  {
   "cell_type": "markdown",
   "metadata": {},
   "source": [
    "Data Structures in python:\n",
    "    Tuple , Lists , Dictionaries , Sets , Arrays ."
   ]
  },
  {
   "cell_type": "code",
   "execution_count": 1,
   "metadata": {},
   "outputs": [
    {
     "data": {
      "text/plain": [
       "tuple"
      ]
     },
     "execution_count": 1,
     "metadata": {},
     "output_type": "execute_result"
    }
   ],
   "source": [
    "f='yu','op'\n",
    "type(f)"
   ]
  },
  {
   "cell_type": "code",
   "execution_count": 2,
   "metadata": {},
   "outputs": [
    {
     "data": {
      "text/plain": [
       "tuple"
      ]
     },
     "execution_count": 2,
     "metadata": {},
     "output_type": "execute_result"
    }
   ],
   "source": [
    "f=5,6\n",
    "type(f)"
   ]
  },
  {
   "cell_type": "code",
   "execution_count": 3,
   "metadata": {},
   "outputs": [
    {
     "data": {
      "text/plain": [
       "tuple"
      ]
     },
     "execution_count": 3,
     "metadata": {},
     "output_type": "execute_result"
    }
   ],
   "source": [
    "f='uy',5\n",
    "type(f)"
   ]
  },
  {
   "cell_type": "markdown",
   "metadata": {},
   "source": [
    "So a data structure can include integers , floats and strings as elements ."
   ]
  },
  {
   "cell_type": "code",
   "execution_count": 5,
   "metadata": {},
   "outputs": [
    {
     "name": "stdout",
     "output_type": "stream",
     "text": [
      "(5, 6, 7, 8, 'hi', 'welcome', (2+5j))\n",
      "\n",
      "<class 'tuple'>\n"
     ]
    }
   ],
   "source": [
    "# also a tuple declaration\n",
    "\n",
    "f = ( 5,6,7,8,'hi','welcome' , 2+5j)\n",
    "print(f)\n",
    "print()\n",
    "print(type(f))"
   ]
  },
  {
   "cell_type": "code",
   "execution_count": 8,
   "metadata": {},
   "outputs": [
    {
     "data": {
      "text/plain": [
       "complex"
      ]
     },
     "execution_count": 8,
     "metadata": {},
     "output_type": "execute_result"
    }
   ],
   "source": [
    "#Note : 2+5j is a complex number (data-type) in python \n",
    "a=2+5j\n",
    "type(a)"
   ]
  },
  {
   "cell_type": "code",
   "execution_count": 13,
   "metadata": {},
   "outputs": [
    {
     "ename": "NameError",
     "evalue": "name 'j' is not defined",
     "output_type": "error",
     "traceback": [
      "\u001b[1;31m---------------------------------------------------------------------------\u001b[0m",
      "\u001b[1;31mNameError\u001b[0m                                 Traceback (most recent call last)",
      "\u001b[1;32m<ipython-input-13-4276db788ea9>\u001b[0m in \u001b[0;36m<module>\u001b[1;34m\u001b[0m\n\u001b[0;32m      2\u001b[0m \u001b[1;31m# 5+j is not valid complex number . 5+1j is correct format .\u001b[0m\u001b[1;33m\u001b[0m\u001b[1;33m\u001b[0m\u001b[1;33m\u001b[0m\u001b[0m\n\u001b[0;32m      3\u001b[0m \u001b[1;33m\u001b[0m\u001b[0m\n\u001b[1;32m----> 4\u001b[1;33m \u001b[0mb\u001b[0m\u001b[1;33m=\u001b[0m\u001b[1;36m5\u001b[0m\u001b[1;33m+\u001b[0m\u001b[0mj\u001b[0m\u001b[1;33m\u001b[0m\u001b[1;33m\u001b[0m\u001b[0m\n\u001b[0m\u001b[0;32m      5\u001b[0m \u001b[0mtype\u001b[0m\u001b[1;33m(\u001b[0m\u001b[0mb\u001b[0m\u001b[1;33m)\u001b[0m\u001b[1;33m\u001b[0m\u001b[1;33m\u001b[0m\u001b[0m\n",
      "\u001b[1;31mNameError\u001b[0m: name 'j' is not defined"
     ]
    }
   ],
   "source": [
    "# If the element is a complex number , then j must always be acoompanied by a integer or float \n",
    "# 5+j is not valid complex number . 5+1j is correct format .\n",
    "\n",
    "b=5+j\n",
    "type(b)"
   ]
  },
  {
   "cell_type": "code",
   "execution_count": 16,
   "metadata": {},
   "outputs": [
    {
     "data": {
      "text/plain": [
       "complex"
      ]
     },
     "execution_count": 16,
     "metadata": {},
     "output_type": "execute_result"
    }
   ],
   "source": [
    "b=5+1j\n",
    "type(b)"
   ]
  },
  {
   "cell_type": "code",
   "execution_count": 17,
   "metadata": {},
   "outputs": [
    {
     "ename": "NameError",
     "evalue": "name 'j1' is not defined",
     "output_type": "error",
     "traceback": [
      "\u001b[1;31m---------------------------------------------------------------------------\u001b[0m",
      "\u001b[1;31mNameError\u001b[0m                                 Traceback (most recent call last)",
      "\u001b[1;32m<ipython-input-17-206ee6ae1b9f>\u001b[0m in \u001b[0;36m<module>\u001b[1;34m\u001b[0m\n\u001b[0;32m      1\u001b[0m \u001b[1;31m#Note : 5 + j1 is also not a correct format.\u001b[0m\u001b[1;33m\u001b[0m\u001b[1;33m\u001b[0m\u001b[1;33m\u001b[0m\u001b[0m\n\u001b[0;32m      2\u001b[0m \u001b[1;33m\u001b[0m\u001b[0m\n\u001b[1;32m----> 3\u001b[1;33m \u001b[0mb\u001b[0m\u001b[1;33m=\u001b[0m \u001b[1;36m5\u001b[0m\u001b[1;33m+\u001b[0m\u001b[0mj1\u001b[0m\u001b[1;33m\u001b[0m\u001b[1;33m\u001b[0m\u001b[0m\n\u001b[0m\u001b[0;32m      4\u001b[0m \u001b[0mtype\u001b[0m\u001b[1;33m(\u001b[0m\u001b[0mb\u001b[0m\u001b[1;33m)\u001b[0m\u001b[1;33m\u001b[0m\u001b[1;33m\u001b[0m\u001b[0m\n",
      "\u001b[1;31mNameError\u001b[0m: name 'j1' is not defined"
     ]
    }
   ],
   "source": [
    "#Note : 5 + j1 is also not a correct format.\n",
    "\n",
    "b= 5+j1\n",
    "type(b)"
   ]
  },
  {
   "cell_type": "code",
   "execution_count": 18,
   "metadata": {},
   "outputs": [
    {
     "name": "stdout",
     "output_type": "stream",
     "text": [
      "7\n"
     ]
    }
   ],
   "source": [
    "f = ( 5,6,7,8,'hi','welcome' , 2+5j)\n",
    "print(len(f))"
   ]
  },
  {
   "cell_type": "code",
   "execution_count": 22,
   "metadata": {},
   "outputs": [
    {
     "data": {
      "text/plain": [
       "set"
      ]
     },
     "execution_count": 22,
     "metadata": {},
     "output_type": "execute_result"
    }
   ],
   "source": [
    "#Sets  : Unordered collection of non-repetitive elements. Elements can be numbers or strings\n",
    "a={1,2,3,'string'}\n",
    "type(a)"
   ]
  },
  {
   "cell_type": "code",
   "execution_count": 20,
   "metadata": {},
   "outputs": [
    {
     "name": "stdout",
     "output_type": "stream",
     "text": [
      "<class 'set'>\n",
      "{1, 2, 3, 4, 5, 6}\n"
     ]
    }
   ],
   "source": [
    "# Repetition is not available within a set \n",
    "\n",
    "a={ 1,2,2,2,2,3,4,5,6}\n",
    "print(type(a))\n",
    "print(a)"
   ]
  },
  {
   "cell_type": "code",
   "execution_count": 25,
   "metadata": {},
   "outputs": [
    {
     "name": "stdout",
     "output_type": "stream",
     "text": [
      "Difference of 2 sets is {1, 2, 'union1'}\n",
      "Symmetric Difference of 2 sets is {1, 2, 5, 6, 'union2', 'union1'}\n",
      "Intersection of 2 sets is {'intersected element', 3, 4}\n",
      "Union of 2 sets is {1, 2, 3, 4, 5, 6, 'intersected element', 'union2', 'union1'}\n"
     ]
    }
   ],
   "source": [
    "#set operations :\n",
    "a={1,2,3,4 ,'intersected element' , 'union1'}\n",
    "b={3,4,5,6 ,'intersected element' , 'union2'}\n",
    "c= a.difference(b)\n",
    "d=a.symmetric_difference(b)  #symmetric difference ( entries that are not in both )\n",
    "e=a.intersection(b)\n",
    "f=a.union(b)\n",
    "\n",
    "print(f'Difference of 2 sets is {c}')\n",
    "print(f'Symmetric Difference of 2 sets is {d}')\n",
    "print(f'Intersection of 2 sets is {e}')\n",
    "print(f'Union of 2 sets is {f}')"
   ]
  },
  {
   "cell_type": "code",
   "execution_count": 29,
   "metadata": {},
   "outputs": [
    {
     "name": "stdout",
     "output_type": "stream",
     "text": [
      "['ramesh', 'suresh', 'pratesh']\n",
      "ramesh ,suresh ,pratesh\n",
      "ramesh & suresh & pratesh\n"
     ]
    }
   ],
   "source": [
    "#.join() function over a list of strings ONLY\n",
    "\n",
    "a=['ramesh','suresh','pratesh']\n",
    "print(a)\n",
    "c=\" ,\".join(a)\n",
    "print(c)\n",
    "d=\" & \".join(a)\n",
    "print(d)"
   ]
  },
  {
   "cell_type": "code",
   "execution_count": 30,
   "metadata": {},
   "outputs": [
    {
     "ename": "TypeError",
     "evalue": "sequence item 3: expected str instance, int found",
     "output_type": "error",
     "traceback": [
      "\u001b[1;31m---------------------------------------------------------------------------\u001b[0m",
      "\u001b[1;31mTypeError\u001b[0m                                 Traceback (most recent call last)",
      "\u001b[1;32m<ipython-input-30-f6ec2743e872>\u001b[0m in \u001b[0;36m<module>\u001b[1;34m\u001b[0m\n\u001b[0;32m      1\u001b[0m \u001b[0ma\u001b[0m\u001b[1;33m=\u001b[0m\u001b[1;33m[\u001b[0m\u001b[1;34m'ramesh'\u001b[0m\u001b[1;33m,\u001b[0m\u001b[1;34m'suresh'\u001b[0m\u001b[1;33m,\u001b[0m\u001b[1;34m'pratesh'\u001b[0m\u001b[1;33m,\u001b[0m \u001b[1;36m5\u001b[0m\u001b[1;33m]\u001b[0m \u001b[1;31m# There is an integer entry.\u001b[0m\u001b[1;33m\u001b[0m\u001b[1;33m\u001b[0m\u001b[0m\n\u001b[1;32m----> 2\u001b[1;33m \u001b[0mc\u001b[0m\u001b[1;33m=\u001b[0m\u001b[1;34m\" ,\"\u001b[0m\u001b[1;33m.\u001b[0m\u001b[0mjoin\u001b[0m\u001b[1;33m(\u001b[0m\u001b[0ma\u001b[0m\u001b[1;33m)\u001b[0m\u001b[1;33m\u001b[0m\u001b[1;33m\u001b[0m\u001b[0m\n\u001b[0m",
      "\u001b[1;31mTypeError\u001b[0m: sequence item 3: expected str instance, int found"
     ]
    }
   ],
   "source": [
    "a=['ramesh','suresh','pratesh', 5] # There is an integer entry\n",
    "c=\" ,\".join(a)"
   ]
  },
  {
   "cell_type": "code",
   "execution_count": 31,
   "metadata": {},
   "outputs": [
    {
     "name": "stdout",
     "output_type": "stream",
     "text": [
      "usd = 0.8\n",
      "eur = 1.2\n"
     ]
    }
   ],
   "source": [
    "# TUPLE DESTRUCTURING\n",
    "\n",
    "currencies=0.8, 1.2\n",
    "usd , eur=currencies\n",
    "\n",
    "# taking elements of a tuple and assigning to variables.\n",
    "print(f'usd = {usd}')\n",
    "print(f'eur = {eur}')"
   ]
  },
  {
   "cell_type": "code",
   "execution_count": 32,
   "metadata": {},
   "outputs": [
    {
     "name": "stdout",
     "output_type": "stream",
     "text": [
      "Name is Rolf and Age is 25\n",
      "Name is Anne and Age is 37\n",
      "Name is Bob and Age is 22\n"
     ]
    }
   ],
   "source": [
    "#example 2:\n",
    "\n",
    "friends=[('Rolf',25) , ('Anne', 37), ('Bob', 22)]  # A list of tuples.\n",
    "\n",
    "for name,age in friends:\n",
    "    print(f\"Name is {name} and Age is {age}\")\n",
    "    \n",
    "    #equivalent :\n",
    "    #for friend in friends:\n",
    "        #name , age = friend\n",
    "        #or\n",
    "        #name=friend[0]\n",
    "        #age=friend[1]\n"
   ]
  },
  {
   "cell_type": "code",
   "execution_count": null,
   "metadata": {},
   "outputs": [],
   "source": [
    "## BREAK , CONTINUE , PASS "
   ]
  },
  {
   "cell_type": "code",
   "execution_count": 34,
   "metadata": {},
   "outputs": [
    {
     "name": "stdout",
     "output_type": "stream",
     "text": [
      "This car is ok\n",
      "Shipping new car to customer!\n",
      "\n",
      "This car is ok\n",
      "Shipping new car to customer!\n",
      "\n",
      "This car is ok\n",
      "Shipping new car to customer!\n",
      "\n",
      "This car is faulty ! Stopping the production line!\n"
     ]
    }
   ],
   "source": [
    "cars=['ok','ok','ok','faulty','ok','ok']\n",
    "for status in cars:\n",
    "    if status=='faulty':\n",
    "        print('This car is faulty ! Stopping the production line!')\n",
    "        break\n",
    "    \n",
    "    print(f\"This car is {status}\")\n",
    "    print(\"Shipping new car to customer!\\n\")\n",
    "    \n",
    "    \n",
    "    # When faulty car is found , the chain is 'broken' and the production is halted . BREAK WILL BREAK OUT OF THE ENTIRE LOOP."
   ]
  },
  {
   "cell_type": "code",
   "execution_count": 35,
   "metadata": {},
   "outputs": [
    {
     "name": "stdout",
     "output_type": "stream",
     "text": [
      "This car is ok\n",
      "Shipping new car to customer!\n",
      "\n",
      "This car is ok\n",
      "Shipping new car to customer!\n",
      "\n",
      "This car is ok\n",
      "Shipping new car to customer!\n",
      "\n",
      "This car is faulty ! Skipping....!\n",
      "\n",
      "This car is ok\n",
      "Shipping new car to customer!\n",
      "\n",
      "This car is ok\n",
      "Shipping new car to customer!\n",
      "\n"
     ]
    }
   ],
   "source": [
    "cars=['ok','ok','ok','faulty','ok','ok']\n",
    "for status in cars:\n",
    "    if status=='faulty':\n",
    "        print('This car is faulty ! Skipping....!\\n')\n",
    "        continue\n",
    "    \n",
    "    print(f\"This car is {status}\")\n",
    "    print(\"Shipping new car to customer!\\n\")\n",
    "    \n",
    "    # Continue will continue the loop but wont execute rest of the code during that iteration."
   ]
  },
  {
   "cell_type": "code",
   "execution_count": 36,
   "metadata": {},
   "outputs": [
    {
     "name": "stdout",
     "output_type": "stream",
     "text": [
      "This car is ok\n",
      "Shipping new car to customer!\n",
      "\n",
      "This car is ok\n",
      "Shipping new car to customer!\n",
      "\n",
      "This car is ok\n",
      "Shipping new car to customer!\n",
      "\n",
      "This car is ok\n",
      "Shipping new car to customer!\n",
      "\n",
      "This car is ok\n",
      "Shipping new car to customer!\n",
      "\n",
      "All cars built successfully. No faulty cars found!\n"
     ]
    }
   ],
   "source": [
    "#FOR ELSE - Else will execute if the for loop doesnt break.\n",
    "\n",
    "cars=['ok','ok','ok','ok','ok']\n",
    "for status in cars:\n",
    "    if status=='faulty':\n",
    "        print('This car is faulty ! Stopping the production line!')\n",
    "        break\n",
    "    \n",
    "    print(f\"This car is {status}\")\n",
    "    print(\"Shipping new car to customer!\\n\")\n",
    "\n",
    "#If i want to print something incase all cars were successfully shipped without breaking the loop.... \n",
    "#One way to do it is by success=True , if status==faulty set success to False and after loop ends , if success==True\n",
    "#print('......')\n",
    "\n",
    "#But its more convenient to use else \n",
    "\n",
    "else:\n",
    "    print(\"All cars built successfully. No faulty cars found!\")  # will get executed cos loop executed without breaking..."
   ]
  },
  {
   "cell_type": "code",
   "execution_count": 37,
   "metadata": {},
   "outputs": [
    {
     "name": "stdout",
     "output_type": "stream",
     "text": [
      "2 is a prime\n",
      "3 is a prime\n",
      "4 is divisible by 2\n",
      "5 is a prime\n",
      "6 is divisible by 2\n",
      "7 is a prime\n",
      "8 is divisible by 2\n",
      "9 is divisible by 3\n"
     ]
    }
   ],
   "source": [
    "#finding prime number using for-else an break\n",
    "\n",
    "for number in range(2,10):\n",
    "    for n in range(2, number):    # math.sqrt(number) , optimisation\n",
    "        if number%n==0:\n",
    "            print(f\"{number} is divisible by {n}\")\n",
    "            break\n",
    "    else:\n",
    "        print(f\"{number} is a prime\")\n",
    "        \n",
    "        \n",
    "#optimisation :\n",
    "    #Prime number can be checked only till sqrt(number) : Erastothenes' theorem\n",
    "    "
   ]
  },
  {
   "cell_type": "code",
   "execution_count": 38,
   "metadata": {},
   "outputs": [
    {
     "name": "stdout",
     "output_type": "stream",
     "text": [
      "['Anne', 'Bob', 'Stephen']\n",
      "['Lisha']\n",
      "['Stephen', 'Lisha', 'Natasha']\n"
     ]
    }
   ],
   "source": [
    "#LIST SLICING\n",
    "\n",
    "friends= ['Anne','Bob','Stephen','Lisha','Natasha']   #INDICES [0 , 1, 2, 3, 4]   [-5 , -4 , -3 , -2 , -1]\n",
    "print(friends[:3])   # till 3 not included\n",
    "print(friends[3:4])  # till 4 not included\n",
    "print(friends[-3:])  # from stephen to end"
   ]
  },
  {
   "cell_type": "code",
   "execution_count": 39,
   "metadata": {},
   "outputs": [
    {
     "data": {
      "text/plain": [
       "'once upon a time'"
      ]
     },
     "execution_count": 39,
     "metadata": {},
     "output_type": "execute_result"
    }
   ],
   "source": [
    "a= ['once','upon','a','time','there was a wolf']\n",
    "b=' '.join(a[0:4])\n",
    "b"
   ]
  },
  {
   "cell_type": "code",
   "execution_count": 40,
   "metadata": {},
   "outputs": [
    {
     "data": {
      "text/plain": [
       "[2, 4, 6, 8, 10]"
      ]
     },
     "execution_count": 40,
     "metadata": {},
     "output_type": "execute_result"
    }
   ],
   "source": [
    "#LIST COMPREHENSION\n",
    "\n",
    "a=[1,2,3,4,5]\n",
    "do=[2*x for x in a]     # [ 'EXPRESSION' for 'VARIABLE' in 'BASE_LIST' if 'CONDITION' ]\n",
    "do"
   ]
  },
  {
   "cell_type": "code",
   "execution_count": 41,
   "metadata": {},
   "outputs": [
    {
     "data": {
      "text/plain": [
       "[0, 2, 4, 6, 8]"
      ]
     },
     "execution_count": 41,
     "metadata": {},
     "output_type": "execute_result"
    }
   ],
   "source": [
    "#Example 2\n",
    "\n",
    "do=[2*x for x in range(5)]\n",
    "do"
   ]
  },
  {
   "cell_type": "code",
   "execution_count": 45,
   "metadata": {},
   "outputs": [
    {
     "name": "stdout",
     "output_type": "stream",
     "text": [
      "['Age of Rahul is 23', 'Age of Amith is 22', 'Age of Sanjay is 20']\n"
     ]
    }
   ],
   "source": [
    "#Example 3\n",
    "\n",
    "friends=['Rahul','Amith','Sanjay']\n",
    "age=[23,22,20]\n",
    "data=zip(friends,age)\n",
    "my_strings=[f\"Age of {friend} is {age}\" for friend,age in data]\n",
    "print(my_strings)"
   ]
  },
  {
   "cell_type": "markdown",
   "metadata": {},
   "source": [
    "Zip function takes 2 lists as arguments and forms a new list of tuples with each tuple having corresponding elements \n",
    "of the argument lists."
   ]
  },
  {
   "cell_type": "code",
   "execution_count": 47,
   "metadata": {},
   "outputs": [
    {
     "name": "stdout",
     "output_type": "stream",
     "text": [
      "<zip object at 0x0000023BABF24F40>\n",
      "[('Rahul', 23), ('Amith', 22), ('Sanjay', 20)]\n"
     ]
    }
   ],
   "source": [
    "friends=['Rahul','Amith','Sanjay']\n",
    "age=[23,22,20]\n",
    "data=zip(friends,age)\n",
    "print(data)\n",
    "print(list(data))"
   ]
  },
  {
   "cell_type": "code",
   "execution_count": 48,
   "metadata": {},
   "outputs": [
    {
     "data": {
      "text/plain": [
       "['rahul', 'amith', 'sanjay']"
      ]
     },
     "execution_count": 48,
     "metadata": {},
     "output_type": "execute_result"
    }
   ],
   "source": [
    "#Example 4\n",
    "\n",
    "friends=['Rahul','AMith','Sanjay']\n",
    "friends=[name.lower() for name in friends]\n",
    "friends"
   ]
  },
  {
   "cell_type": "code",
   "execution_count": 49,
   "metadata": {},
   "outputs": [
    {
     "data": {
      "text/plain": [
       "['Rahul', 'Amith', 'Sanjay']"
      ]
     },
     "execution_count": 49,
     "metadata": {},
     "output_type": "execute_result"
    }
   ],
   "source": [
    "#Titlecasing \n",
    "\n",
    "friends=['rahul','aMith','sanjay']\n",
    "[friend.title() for friend in friends]   #First letter is capital\n"
   ]
  },
  {
   "cell_type": "markdown",
   "metadata": {},
   "source": [
    "Quirks : In the above example , note 'aMith' - title() not only capitalizes first letter but lower-cases subsequent letters aswell."
   ]
  },
  {
   "cell_type": "markdown",
   "metadata": {},
   "source": [
    "Note: Comprehension can also be on tuple and sets"
   ]
  },
  {
   "cell_type": "code",
   "execution_count": 50,
   "metadata": {},
   "outputs": [
    {
     "data": {
      "text/plain": [
       "[23, 25, 27]"
      ]
     },
     "execution_count": 50,
     "metadata": {},
     "output_type": "execute_result"
    }
   ],
   "source": [
    "#Conditional Comprehension\n",
    "\n",
    "ages=[22,23,24,25,26,27]\n",
    "odds=[age for age in ages if age%2!=0]\n",
    "odds"
   ]
  },
  {
   "cell_type": "code",
   "execution_count": 51,
   "metadata": {},
   "outputs": [
    {
     "data": {
      "text/plain": [
       "['Amith', 'Sanjay']"
      ]
     },
     "execution_count": 51,
     "metadata": {},
     "output_type": "execute_result"
    }
   ],
   "source": [
    "# Example :\n",
    "\n",
    "friends=['Rahul','Amith','Sanjay']\n",
    "guests=['jose','amith','Sanjay']\n",
    "\n",
    "f_lower=[\n",
    "    friend.lower() for friend in friends\n",
    "]\n",
    "\n",
    "guest_friends=[\n",
    "    name.title() for name in guests if name.lower() in f_lower\n",
    "]\n",
    "\n",
    "guest_friends"
   ]
  },
  {
   "cell_type": "code",
   "execution_count": 52,
   "metadata": {},
   "outputs": [
    {
     "data": {
      "text/plain": [
       "{'amith', 'rahul', 'sanjay'}"
      ]
     },
     "execution_count": 52,
     "metadata": {},
     "output_type": "execute_result"
    }
   ],
   "source": [
    "friends={friend.lower() for friend in friends}   #Set comprehension\n",
    "friends"
   ]
  },
  {
   "cell_type": "markdown",
   "metadata": {},
   "source": [
    "Dictionary = { key : value , key : value , key : value }"
   ]
  },
  {
   "cell_type": "code",
   "execution_count": 53,
   "metadata": {},
   "outputs": [
    {
     "data": {
      "text/plain": [
       "{'Rahul': 23, 'Amith': 22}"
      ]
     },
     "execution_count": 53,
     "metadata": {},
     "output_type": "execute_result"
    }
   ],
   "source": [
    "#Method 1 : Dictionary Comprehension  using 2 lists\n",
    "    \n",
    "friends=['Rahul','Amith','Sanjay']\n",
    "age=[23,22,20]\n",
    "\n",
    "diction = {\n",
    "    friends[i]:age[i] for i in range(len(friends)) if age[i]>20\n",
    "}\n",
    "\n",
    "diction                 #Dictionary comprehension"
   ]
  },
  {
   "cell_type": "code",
   "execution_count": 56,
   "metadata": {},
   "outputs": [
    {
     "name": "stdout",
     "output_type": "stream",
     "text": [
      "[('Rahul', 23), ('Amith', 22), ('Sanjay', 20)]\n",
      "\n",
      "Dictionary formed is {'Rahul': 23, 'Amith': 22, 'Sanjay': 20}\n"
     ]
    }
   ],
   "source": [
    "# Method 2  : dict(zip) function\n",
    " \n",
    "#Dict() can be used to convert a list of pair-values i.e [(name, age)]\n",
    "\n",
    "#Zip() creates a new list in which each element is a tuple of corresponding elements in iterable.\n",
    "\n",
    "friends=['Rahul','Amith','Sanjay']\n",
    "age=[23,22,20]\n",
    "\n",
    "zipper=list(zip(friends,age))\n",
    "print(zipper)\n",
    "print()\n",
    "print(f'Dictionary formed is {dict(zipper)}')\n",
    "\n",
    "\n",
    "\n",
    "#ZIP COMBINES 2 OR MORE LISTS INto 1 LIST"
   ]
  }
 ],
 "metadata": {
  "kernelspec": {
   "display_name": "Python 3",
   "language": "python",
   "name": "python3"
  },
  "language_info": {
   "codemirror_mode": {
    "name": "ipython",
    "version": 3
   },
   "file_extension": ".py",
   "mimetype": "text/x-python",
   "name": "python",
   "nbconvert_exporter": "python",
   "pygments_lexer": "ipython3",
   "version": "3.8.3"
  }
 },
 "nbformat": 4,
 "nbformat_minor": 4
}
