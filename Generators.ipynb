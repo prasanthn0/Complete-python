{
 "cells": [
  {
   "cell_type": "markdown",
   "metadata": {},
   "source": [
    "GENERATORS:\n",
    "    \n",
    "    Lets say you need 100 numbers in a list. then u can create a list with it using while or for loop.. Now , what if u need \n",
    "    million numbers. Then storing such a huge chunk of data in memory is memory-wastage.\n",
    "Assumption:\n",
    "    That we dont need all million numbers at once. We process 0 first , then 1 and then 2 and so on.\n",
    "    \n",
    "Example:\n",
    "    a= [ list of 1 million numbers ]\n",
    "    b= [ 2*i for i in a ]  . Now this is when generators come into picture. A generator stores the last element that was used\n",
    "    and next time it continues from there so it doesnt have to store the entire list at any given point of time.\n",
    "\n",
    "def hundreds():\n",
    "    a=[]\n",
    "    i=0\n",
    "    while i<=100:\n",
    "        a.append(i)\n",
    "        i=i+1\n",
    "    return a\n",
    "\n",
    "Alternatively,\n",
    "\n",
    "def hundreds():\n",
    "    i=0\n",
    "    while i<=100:\n",
    "        yield i\n",
    "        i+=1\n",
    "\n",
    "Now, the above is an example of Generator function. When the function is run , it will return i i.e., yield i and stop there.\n",
    "Next time its called, it will continue from next line ( i+=1 )...\n",
    "So , function needs to be called everytime a number has to be genrated.\n",
    "    "
   ]
  },
  {
   "cell_type": "code",
   "execution_count": 1,
   "metadata": {},
   "outputs": [
    {
     "name": "stdout",
     "output_type": "stream",
     "text": [
      "<generator object hundreds at 0x000001D87CB29040>\n"
     ]
    }
   ],
   "source": [
    "def hundreds():\n",
    "    i=0\n",
    "    while i<=100:\n",
    "        yield i\n",
    "        i+=1\n",
    "        \n",
    "print(hundreds())"
   ]
  },
  {
   "cell_type": "code",
   "execution_count": 2,
   "metadata": {},
   "outputs": [
    {
     "name": "stdout",
     "output_type": "stream",
     "text": [
      "0\n"
     ]
    }
   ],
   "source": [
    "# So to get the value at this address, we need to use next() built-in function that applies over generators.\n",
    "\n",
    "def hundreds():\n",
    "    i=0\n",
    "    while i<=100:\n",
    "        yield i\n",
    "        i+=1\n",
    "        \n",
    "g=hundreds()\n",
    "print(next(g))"
   ]
  },
  {
   "cell_type": "code",
   "execution_count": 3,
   "metadata": {},
   "outputs": [
    {
     "data": {
      "text/plain": [
       "1"
      ]
     },
     "execution_count": 3,
     "metadata": {},
     "output_type": "execute_result"
    }
   ],
   "source": [
    "next(g)"
   ]
  },
  {
   "cell_type": "code",
   "execution_count": 4,
   "metadata": {},
   "outputs": [
    {
     "data": {
      "text/plain": [
       "2"
      ]
     },
     "execution_count": 4,
     "metadata": {},
     "output_type": "execute_result"
    }
   ],
   "source": [
    "next(g)"
   ]
  },
  {
   "cell_type": "code",
   "execution_count": 5,
   "metadata": {},
   "outputs": [
    {
     "data": {
      "text/plain": [
       "3"
      ]
     },
     "execution_count": 5,
     "metadata": {},
     "output_type": "execute_result"
    }
   ],
   "source": [
    "next(g)"
   ]
  },
  {
   "cell_type": "code",
   "execution_count": 6,
   "metadata": {},
   "outputs": [
    {
     "data": {
      "text/plain": [
       "4"
      ]
     },
     "execution_count": 6,
     "metadata": {},
     "output_type": "execute_result"
    }
   ],
   "source": [
    "next(g)"
   ]
  },
  {
   "cell_type": "code",
   "execution_count": 7,
   "metadata": {},
   "outputs": [
    {
     "name": "stdout",
     "output_type": "stream",
     "text": [
      "i\n",
      "l\n",
      "o\n",
      "v\n",
      "e\n",
      "u\n"
     ]
    }
   ],
   "source": [
    "class Iterator:\n",
    "    def __init__(self,items):\n",
    "        self.items=items\n",
    "        self.i=0\n",
    "        \n",
    "    def __next__(self):\n",
    "        if self.i<len(self.items):\n",
    "            current= self.items[self.i]\n",
    "            self.i+=1\n",
    "            return current\n",
    "        else:\n",
    "            raise StopIteration()\n",
    "            \n",
    "a=['i','l','o','v','e','u']            \n",
    "iter1=Iterator(a)\n",
    "i=len(a)\n",
    "while i:\n",
    "    print(next(iter1))\n",
    "    i=i-1\n"
   ]
  },
  {
   "cell_type": "code",
   "execution_count": 8,
   "metadata": {},
   "outputs": [
    {
     "name": "stdout",
     "output_type": "stream",
     "text": [
      "0\n",
      "1\n",
      "2\n",
      "3\n",
      "4\n",
      "5\n",
      "6\n",
      "7\n",
      "8\n",
      "9\n",
      "10\n",
      "11\n",
      "12\n",
      "13\n",
      "14\n",
      "15\n",
      "16\n",
      "17\n",
      "18\n",
      "19\n",
      "20\n",
      "21\n",
      "22\n",
      "23\n",
      "24\n"
     ]
    }
   ],
   "source": [
    "# Iterable :\n",
    "\n",
    "\n",
    "class iterable25:\n",
    "    def __iter__(self):\n",
    "        return Iterator(range(25))\n",
    "    \n",
    "for i in iterable25() :\n",
    "    print(i)"
   ]
  },
  {
   "cell_type": "markdown",
   "metadata": {},
   "source": [
    "So flow is :\n",
    "    1. Write a generator or iterator class\n",
    "    2. Create an iterable class\n",
    "    3. Iterate over iterable"
   ]
  },
  {
   "cell_type": "code",
   "execution_count": 9,
   "metadata": {},
   "outputs": [
    {
     "name": "stdout",
     "output_type": "stream",
     "text": [
      "0\n",
      "1\n",
      "2\n",
      "3\n",
      "4\n"
     ]
    }
   ],
   "source": [
    "#But an iterator can be used as a iterable by using __iter__ within the iterator class itself...\n",
    "# ITERATOR PROTOCOLS :\n",
    "#         1. __next__\n",
    "#         2. __iter__\n",
    "\n",
    "\n",
    "class Iterator100:\n",
    "    def __init__(self):\n",
    "        self.number=0\n",
    "        \n",
    "    def __next__(self):\n",
    "        if self.number < 5 :\n",
    "            current = self.number\n",
    "            self.number+=1\n",
    "            return current\n",
    "        \n",
    "        else:\n",
    "            raise StopIteration()\n",
    "        \n",
    "    def __iter__(self):\n",
    "        return self\n",
    "    \n",
    "    \n",
    "for i in Iterator100():\n",
    "    print(i)"
   ]
  },
  {
   "cell_type": "code",
   "execution_count": 10,
   "metadata": {},
   "outputs": [
    {
     "name": "stdout",
     "output_type": "stream",
     "text": [
      "fiesta\n",
      "ford\n",
      "toyota\n"
     ]
    }
   ],
   "source": [
    "# another type of iterable example :\n",
    "\n",
    "class Garage:\n",
    "    def __init__(self):\n",
    "        self.cars=['fiesta','ford','toyota']\n",
    "        \n",
    "    def __len__(self):\n",
    "        return len(self.cars)\n",
    "    \n",
    "    def __getitem__(self,i):\n",
    "        return self.cars[i]\n",
    "    \n",
    "for car in Garage():\n",
    "    print(car)"
   ]
  },
  {
   "cell_type": "markdown",
   "metadata": {},
   "source": [
    "    AN ITERATOR IS USED TO GET THE NEXT VALUE..\n",
    "    AN ITERABLE TO USED TO GO OVER ALL THE VALUES OF AN ITERATOR."
   ]
  },
  {
   "cell_type": "code",
   "execution_count": 12,
   "metadata": {},
   "outputs": [
    {
     "name": "stdout",
     "output_type": "stream",
     "text": [
      "1\n"
     ]
    }
   ],
   "source": [
    "#Generator comprehension:\n",
    "\n",
    "mynum= [ x for x in [1,2,3,4,5]] # this copies the list into mynum\n",
    "\n",
    "mynumgen= ( x for x in [1,2,3,4,5])\n",
    "\n",
    "\n",
    "print(next(mynumgen))"
   ]
  },
  {
   "cell_type": "code",
   "execution_count": 13,
   "metadata": {},
   "outputs": [
    {
     "name": "stdout",
     "output_type": "stream",
     "text": [
      "['Ravi', 'Rakesh']\n",
      "[]\n"
     ]
    }
   ],
   "source": [
    "# FILTER function \n",
    "\n",
    "def rfunction(friend):\n",
    "    return friend.startswith('R')\n",
    "\n",
    "friends= ['Ravi','Rakesh','Anusha','Hema']\n",
    "startwithr= filter(rfunction,friends)    #arg1= function that returns a true / false\n",
    "                                         #arg2= Iterable\n",
    "    \n",
    "    \n",
    "\n",
    "print(list(startwithr))\n",
    "print(list(startwithr))"
   ]
  },
  {
   "cell_type": "markdown",
   "metadata": {},
   "source": [
    "Because , startwithr is actually a generator which iterates over friends... Hence when the list is printed after first time, \n",
    "it remembers that the iteration is fnished and returns an empty list.."
   ]
  },
  {
   "cell_type": "markdown",
   "metadata": {},
   "source": [
    "Difference between YIELD                     and                     RETURN :\n",
    "\n",
    "used to convert any function into a generator   ;    used to return a value at the end of a function execution . \n",
    "\n",
    "used to suspend the execution and return a value ;   destroys all local variables.\n",
    "without destroying the local variables.\n",
    "\n",
    "it can run multiple times                      ;    can run only once.\n",
    "\n",
    "Starts from the last paused state              ;     starts from the start again.."
   ]
  },
  {
   "cell_type": "code",
   "execution_count": null,
   "metadata": {},
   "outputs": [],
   "source": [
    "LAMBDA FUNTION :\n",
    "    lambda one_parameter : what_it_returns\n",
    "    \n",
    "    \n",
    "friends= ['Ravi','Rakesh','Anusha','Hema']\n",
    "startwithr= filter(lambda friend : friend.startswith('R') ,friends)\n",
    "\n",
    "\n",
    "as generator comprehension: \n",
    "\n",
    "startswithr = (f for f in friends if f.startswith('R'))\n",
    "\n",
    "\n",
    "Which performs better?\n",
    "Generator comprehension .. because lambda function need not be created..But if lambda is exclusively defined somewhere\n",
    "in the program then filter function is better performance wise.\n",
    "\n",
    "\n",
    "\n",
    "filter_function(func, iterable):\n",
    "    for i in iterable:\n",
    "        if func(i):\n",
    "            yield i"
   ]
  }
 ],
 "metadata": {
  "kernelspec": {
   "display_name": "Python 3",
   "language": "python",
   "name": "python3"
  },
  "language_info": {
   "codemirror_mode": {
    "name": "ipython",
    "version": 3
   },
   "file_extension": ".py",
   "mimetype": "text/x-python",
   "name": "python",
   "nbconvert_exporter": "python",
   "pygments_lexer": "ipython3",
   "version": "3.8.3"
  }
 },
 "nbformat": 4,
 "nbformat_minor": 4
}
