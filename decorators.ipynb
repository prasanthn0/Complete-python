{
 "cells": [
  {
   "cell_type": "code",
   "execution_count": null,
   "metadata": {},
   "outputs": [],
   "source": [
    "\n",
    "def my_function():\n",
    "    return f'Password for Admin is 1234'\n",
    "\n",
    "user={'username':'prashanth','access_level':'admin'}\n",
    "\n",
    "def user_perm(func):\n",
    "    if user.get('access_level')=='admin':\n",
    "        return func\n",
    "    raise RuntimeError\n",
    "\n",
    "\n",
    "mysecurefunc=user_perm(my_function)\n",
    "print(mysecurefunc())\n"
   ]
  },
  {
   "cell_type": "markdown",
   "metadata": {},
   "source": [
    "The function my_function is wrapped around user_perm function to add an extra functionality to check if the access \n",
    "is from admin or not.\n",
    "\n",
    "It should be noted that my_function is not permanently altered to do this. user_perm is now called a decorator function.\n",
    "\n",
    "A decorator function is a higher order function that takes another function as an argument and returns same function."
   ]
  },
  {
   "cell_type": "code",
   "execution_count": null,
   "metadata": {},
   "outputs": [],
   "source": [
    "@user_perm\n",
    "def my_func():\n",
    "    return f'Password for Admin is 1234'\n",
    "\n",
    "\n",
    "mysecurefunc=user_perm(my_function)\n",
    "print(mysecurefunc())"
   ]
  },
  {
   "cell_type": "code",
   "execution_count": null,
   "metadata": {},
   "outputs": [],
   "source": [
    "--> INPUT FUNCTION --> DECORATOR-->PROCESSED--> INPUT FUNCTION AS OUTPUT WITH EXTRA FUNCTIONALITY"
   ]
  },
  {
   "cell_type": "markdown",
   "metadata": {},
   "source": [
    "But in the above code, problem is wrapped function will not retain its name under mysecure.__name__ Hence , to solve this ,\n",
    "functools library can be used."
   ]
  },
  {
   "cell_type": "code",
   "execution_count": null,
   "metadata": {},
   "outputs": [],
   "source": [
    "import functools\n",
    "\n",
    "\n",
    "\n",
    "def my_function():\n",
    "    return f'Password for Admin is 1234'\n",
    "\n",
    "user={'username':'prashanth','access_level':'admin'}\n",
    "\n",
    "def user_perm(func):\n",
    "    @functools.wraps(my_function)\n",
    "    def secure_func():\n",
    "        if user.get('access_level') == 'admin':\n",
    "            return func\n",
    "    return secure_func\n",
    "\n",
    "\n",
    "mysecurefunc=user_perm(my_function)\n",
    "print(mysecurefunc.__name__)\n"
   ]
  },
  {
   "cell_type": "code",
   "execution_count": null,
   "metadata": {},
   "outputs": [],
   "source": [
    "# DECORATING FUNCTIONS WITH PARAMETERS.\n",
    "\n",
    "import functools\n",
    "\n",
    "\n",
    "\n",
    "def my_function(panel):\n",
    "    return f'Password for {panel} Admin is 1234'\n",
    "\n",
    "user={'username':'prashanth','access_level':'admin'}\n",
    "\n",
    "def user_perm(func):\n",
    "    @functools.wraps(my_function)   # To tell the decorator that it is wrapping around my_function .\n",
    "    def secure_func(pael):\n",
    "        if user.get('access_level') == 'admin':\n",
    "            return func(panel)\n",
    "    return secure_func\n",
    "\n",
    "\n",
    "mysecurefunc=user_perm(my_function)\n",
    "print(mysecurefunc.__name__)\n"
   ]
  },
  {
   "cell_type": "code",
   "execution_count": 6,
   "metadata": {},
   "outputs": [
    {
     "name": "stdout",
     "output_type": "stream",
     "text": [
      "Password for A Admin is 1234\n"
     ]
    }
   ],
   "source": [
    "# decorators with arguments\n",
    "import functools\n",
    "\n",
    "\n",
    "\n",
    "\n",
    "user={'username':'prashanth','access_level':'admin'}\n",
    "\n",
    "\n",
    "def third_level(access_level):\n",
    "    def user_perm(func):\n",
    "        @functools.wraps(func)\n",
    "        def secure_func(panel):\n",
    "            if user.get('access_level') == access_level:\n",
    "                return func(panel)\n",
    "        return secure_func\n",
    "    return user_perm\n",
    "\n",
    "\n",
    "@third_level('admin')\n",
    "def my_function(panel):\n",
    "    return f'Password for {panel} Admin is 1234'\n",
    "\n",
    "\n",
    "mysecurefunc=my_function('A')\n",
    "print(mysecurefunc)\n",
    "\n",
    "\n",
    "\n",
    "# Inner most function must call the origial function..\n",
    "# Other levels must call themselves."
   ]
  },
  {
   "cell_type": "code",
   "execution_count": null,
   "metadata": {},
   "outputs": [],
   "source": [
    "def add_all(a1,a2,a3,a4):\n",
    "    return a1+a2+a3+a4\n",
    "\n",
    "vals=(1,3,5,7)\n",
    "vals2= {'a1':1,'a2':3,'a3':5,'a4':7}\n",
    "print(add_all(*vals))  # Argument unpacking  i.e., an iterable of arguments.\n",
    "print(add_all(**vals2))\n",
    "\n",
    "\n",
    "# *args , can accept any number of positional arguments.\n",
    "# **kwargs , can accept any number of named arguments.\n",
    "    "
   ]
  },
  {
   "cell_type": "code",
   "execution_count": 12,
   "metadata": {},
   "outputs": [
    {
     "name": "stdout",
     "output_type": "stream",
     "text": [
      "No admin permission for prashanth\n"
     ]
    }
   ],
   "source": [
    "import functools\n",
    "\n",
    "\n",
    "user={'username':'prashanth','access_level':'Guest'}\n",
    "\n",
    "\n",
    "def third_level(access_level):\n",
    "    def user_perm(func):\n",
    "        @functools.wraps(func)\n",
    "        def secure_func(*args,**kwargs):\n",
    "            if user.get('access_level') == access_level:\n",
    "                return func(*args,**kwargs)\n",
    "            else:\n",
    "                return f\"No admin permission for {user.get('username')}\"\n",
    "        return secure_func\n",
    "    return user_perm\n",
    "\n",
    "\n",
    "@third_level('admin')\n",
    "def my_function(panel):\n",
    "    return f'Password for {panel} Admin is 1234'\n",
    "\n",
    "\n",
    "mysecurefunc=my_function('A')\n",
    "print(mysecurefunc)\n",
    "\n"
   ]
  },
  {
   "cell_type": "code",
   "execution_count": null,
   "metadata": {},
   "outputs": [],
   "source": []
  },
  {
   "cell_type": "code",
   "execution_count": null,
   "metadata": {},
   "outputs": [],
   "source": []
  }
 ],
 "metadata": {
  "kernelspec": {
   "display_name": "Python 3",
   "language": "python",
   "name": "python3"
  }
 },
 "nbformat": 4,
 "nbformat_minor": 4
}
