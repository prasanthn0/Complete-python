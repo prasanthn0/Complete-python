{
 "cells": [
  {
   "cell_type": "markdown",
   "metadata": {},
   "source": [
    "Mutability :\n",
    "    Change a piece of data after its created.\n",
    "    \n",
    "Program data is stored in RAM , a type of memory that only lives while the computer is on and the app is running.\n"
   ]
  },
  {
   "cell_type": "code",
   "execution_count": 1,
   "metadata": {},
   "outputs": [
    {
     "name": "stdout",
     "output_type": "stream",
     "text": [
      "2282167991488\n",
      "2282167991360\n"
     ]
    }
   ],
   "source": [
    "a={'key':1,'key2':2}\n",
    "print(id(a))\n",
    "a={'key':1,'key2':2}\n",
    "print(id(a))"
   ]
  },
  {
   "cell_type": "markdown",
   "metadata": {},
   "source": [
    "Here, it can be seen that the 2 addresses are different. It is because they are 2 different objects with same content.\n",
    "so if a command is executed twice , memory address will change as they r treated as different objects.\n",
    "\n",
    "when the second dicitonary is created, first one still exists in its memory address so second one, even though its the same , \n",
    "cannot use the same memory address.. Code is executed line by line."
   ]
  },
  {
   "cell_type": "markdown",
   "metadata": {},
   "source": [
    "Immutable : \n",
    "    Ints  --> All functions return new int objects. We cannot change existing int objects.\n",
    "    Floats -->  Same\n",
    "    Strings --> Same\n",
    "    tuples"
   ]
  },
  {
   "cell_type": "code",
   "execution_count": 2,
   "metadata": {},
   "outputs": [
    {
     "name": "stdout",
     "output_type": "stream",
     "text": [
      "[1, 2, 'Example', 4, 5]\n"
     ]
    }
   ],
   "source": [
    "newitem=[1,2,3,4,5]\n",
    "newitem[2]='Example'     # newitem.__setitem__(self,2)\n",
    "print(newitem)  #List is mutable"
   ]
  },
  {
   "cell_type": "markdown",
   "metadata": {},
   "source": [
    "my_int = 5\n",
    "my_int = my_int + 1 \n",
    "\n",
    "#my_int.__add__(self,1): return cls(self.value+1)\n",
    "\n",
    "Hence it returns a new object"
   ]
  },
  {
   "cell_type": "code",
   "execution_count": 3,
   "metadata": {},
   "outputs": [
    {
     "name": "stdout",
     "output_type": "stream",
     "text": [
      "140703999867264\n",
      "140703999867264\n",
      "140703999867296\n",
      "140703999867264\n",
      "checking\n",
      "Help on function sage in module __main__:\n",
      "\n",
      "sage(ages)\n",
      "    checking\n",
      "\n"
     ]
    }
   ],
   "source": [
    "age=20\n",
    "def sage(ages):\n",
    "    \"\"\"checking\"\"\"\n",
    "    print(id(ages))\n",
    "    ages+=1\n",
    "    print(id(ages))\n",
    "    \n",
    "print(id(age))\n",
    "sage(age)\n",
    "print(id(age))\n",
    "print(sage.__doc__)\n",
    "help(sage)"
   ]
  },
  {
   "cell_type": "code",
   "execution_count": 4,
   "metadata": {},
   "outputs": [
    {
     "name": "stdout",
     "output_type": "stream",
     "text": [
      "2282167540352\n",
      "2282167568128\n"
     ]
    }
   ],
   "source": [
    "a=[1,2,3]\n",
    "b=[5,6]\n",
    "print(id(a))\n",
    "a=a+b\n",
    "print(id(a))"
   ]
  },
  {
   "cell_type": "code",
   "execution_count": null,
   "metadata": {},
   "outputs": [],
   "source": [
    "In the above examples, it can be noticed that when a variable undergoes a change in value, its address also changes."
   ]
  },
  {
   "cell_type": "code",
   "execution_count": null,
   "metadata": {},
   "outputs": [],
   "source": [
    "#default parameters"
   ]
  },
  {
   "cell_type": "code",
   "execution_count": 5,
   "metadata": {},
   "outputs": [
    {
     "name": "stdout",
     "output_type": "stream",
     "text": [
      "<class 'str'>\n"
     ]
    }
   ],
   "source": [
    "def check(a:int=5):\n",
    "    print(type(a))\n",
    "check('der')\n"
   ]
  },
  {
   "cell_type": "code",
   "execution_count": 7,
   "metadata": {},
   "outputs": [
    {
     "name": "stdout",
     "output_type": "stream",
     "text": [
      "<class 'int'>\n",
      "5\n"
     ]
    }
   ],
   "source": [
    "def check(a:int=5):\n",
    "    print(type(a))\n",
    "    print(a)\n",
    "check()\n"
   ]
  },
  {
   "cell_type": "code",
   "execution_count": null,
   "metadata": {},
   "outputs": [],
   "source": [
    "It can be noticed that since no parameter was passed in 2nd example, default value in function definition i.e. a=5 got assigned."
   ]
  },
  {
   "cell_type": "code",
   "execution_count": 9,
   "metadata": {},
   "outputs": [
    {
     "name": "stdout",
     "output_type": "stream",
     "text": [
      "{'A/c type': 'current', 'holder': 'rithu', 'accounts': ['leela', 'john', 'rithu']}\n"
     ]
    }
   ],
   "source": [
    "#Example 2 for default parameters\n",
    "\n",
    "def create(actype:str,holder:str,accounts:list=[]):\n",
    "    \n",
    "    accounts.append(holder)\n",
    "    \n",
    "    return {\n",
    "        'A/c type':actype,\n",
    "        'holder':holder,\n",
    "        'accounts': accounts\n",
    "    }\n",
    "\n",
    "a=create('savings','leela')\n",
    "a1=create('savings','john')\n",
    "a2=create('current','rithu')\n",
    "print(a2)"
   ]
  },
  {
   "cell_type": "code",
   "execution_count": 10,
   "metadata": {},
   "outputs": [
    {
     "name": "stdout",
     "output_type": "stream",
     "text": [
      "2282167847872\n",
      "2282167847872\n",
      "2282167847872\n",
      "2282167847872\n",
      "{'name': 'current', 'holder': 'rithu', 'accounts': ['leela', 'john', '', 'rithu']}\n"
     ]
    }
   ],
   "source": [
    "#Because the default value for a parameter is assigned when the function is created not when the fucntion is called.\n",
    "\n",
    "def create(name:str,holder:str,accounts:list=[]):\n",
    "    print(id(accounts))\n",
    "    accounts.append(holder)\n",
    "    \n",
    "    return {\n",
    "        'name':name,\n",
    "        'holder':holder,\n",
    "        'accounts': accounts\n",
    "    }\n",
    "\n",
    "a=create('savings','leela')\n",
    "a1=create('savings','john')\n",
    "a3=create('fixed','')\n",
    "a2=create('current','rithu')\n",
    "print(a2)"
   ]
  },
  {
   "cell_type": "markdown",
   "metadata": {},
   "source": [
    "It can be noticed in the above example, that the id of accounts is same everytime its called. So when we mutate it by using\n",
    "append, its still the same list."
   ]
  }
 ],
 "metadata": {
  "kernelspec": {
   "display_name": "Python 3",
   "language": "python",
   "name": "python3"
  },
  "language_info": {
   "codemirror_mode": {
    "name": "ipython",
    "version": 3
   },
   "file_extension": ".py",
   "mimetype": "text/x-python",
   "name": "python",
   "nbconvert_exporter": "python",
   "pygments_lexer": "ipython3",
   "version": "3.8.3"
  }
 },
 "nbformat": 4,
 "nbformat_minor": 4
}
