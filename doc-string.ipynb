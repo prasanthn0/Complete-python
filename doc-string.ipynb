{
 "cells": [
  {
   "cell_type": "markdown",
   "metadata": {},
   "source": [
    "Doc string are included within \"\"\".......\"\"\"\n",
    "The purpose to include comments about certain blocks of code so future developers understand certain key-aspects without \n",
    "having to go through the code entirely."
   ]
  },
  {
   "cell_type": "code",
   "execution_count": 2,
   "metadata": {},
   "outputs": [
    {
     "name": "stdout",
     "output_type": "stream",
     "text": [
      "Checking doc string\n",
      "    \n"
     ]
    }
   ],
   "source": [
    "#Multi-line string :\n",
    "\"\"\"Hello\n",
    "how are you?\n",
    "\n",
    "\n",
    "\"\"\"\n",
    "\n",
    "\n",
    "#This is also called a doc string that can be used to add comments into methods and access them directly\n",
    "\n",
    "\n",
    "\n",
    "\n",
    "class Doc:\n",
    "    \"\"\"Checking doc string\n",
    "    \"\"\"\n",
    "    pass\n",
    "\n",
    "\n",
    "print(Doc.__doc__)   \n",
    "\n",
    "# err=doc()\n",
    "# print(err.__doc__)\n"
   ]
  },
  {
   "cell_type": "markdown",
   "metadata": {},
   "source": [
    "Doc strings can accessed by using dunder-doc method "
   ]
  }
 ],
 "metadata": {
  "kernelspec": {
   "display_name": "Python 3",
   "language": "python",
   "name": "python3"
  },
  "language_info": {
   "codemirror_mode": {
    "name": "ipython",
    "version": 3
   },
   "file_extension": ".py",
   "mimetype": "text/x-python",
   "name": "python",
   "nbconvert_exporter": "python",
   "pygments_lexer": "ipython3",
   "version": "3.8.3"
  }
 },
 "nbformat": 4,
 "nbformat_minor": 4
}
