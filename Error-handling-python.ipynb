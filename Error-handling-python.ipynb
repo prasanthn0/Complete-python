{
 "cells": [
  {
   "cell_type": "code",
   "execution_count": null,
   "metadata": {},
   "outputs": [],
   "source": [
    "#Errors:\n",
    "        # Syntax error\n",
    "        # Runtime error\n",
    "        # Index error\n",
    "        # Key error\n",
    "        # Value error\n",
    "        # Type error\n",
    "        # Name error\n",
    "        # Attribute error\n",
    "        # NotImplemented error\n",
    "        # Indentation error\n",
    "        # Tab error\n",
    "        # Import error\n",
    "        # Deprication warning : That there is a better approach to ur method\n",
    "        "
   ]
  },
  {
   "cell_type": "code",
   "execution_count": 1,
   "metadata": {},
   "outputs": [
    {
     "ename": "NotImplementedError",
     "evalue": "This has not yet been implemented !",
     "output_type": "error",
     "traceback": [
      "\u001b[1;31m---------------------------------------------------------------------------\u001b[0m",
      "\u001b[1;31mNotImplementedError\u001b[0m                       Traceback (most recent call last)",
      "\u001b[1;32m<ipython-input-1-77e892f1163c>\u001b[0m in \u001b[0;36m<module>\u001b[1;34m\u001b[0m\n\u001b[0;32m      6\u001b[0m \u001b[1;33m\u001b[0m\u001b[0m\n\u001b[0;32m      7\u001b[0m \u001b[1;33m\u001b[0m\u001b[0m\n\u001b[1;32m----> 8\u001b[1;33m \u001b[0merrors\u001b[0m\u001b[1;33m(\u001b[0m\u001b[1;33m)\u001b[0m\u001b[1;33m\u001b[0m\u001b[1;33m\u001b[0m\u001b[0m\n\u001b[0m",
      "\u001b[1;32m<ipython-input-1-77e892f1163c>\u001b[0m in \u001b[0;36merrors\u001b[1;34m()\u001b[0m\n\u001b[0;32m      2\u001b[0m \u001b[1;33m\u001b[0m\u001b[0m\n\u001b[0;32m      3\u001b[0m \u001b[1;32mdef\u001b[0m \u001b[0merrors\u001b[0m\u001b[1;33m(\u001b[0m\u001b[1;33m)\u001b[0m\u001b[1;33m:\u001b[0m\u001b[1;33m\u001b[0m\u001b[1;33m\u001b[0m\u001b[0m\n\u001b[1;32m----> 4\u001b[1;33m     \u001b[1;32mraise\u001b[0m \u001b[0mNotImplementedError\u001b[0m\u001b[1;33m(\u001b[0m\u001b[1;34m\"This has not yet been implemented !\"\u001b[0m\u001b[1;33m)\u001b[0m\u001b[1;33m\u001b[0m\u001b[1;33m\u001b[0m\u001b[0m\n\u001b[0m\u001b[0;32m      5\u001b[0m \u001b[1;33m\u001b[0m\u001b[0m\n\u001b[0;32m      6\u001b[0m \u001b[1;33m\u001b[0m\u001b[0m\n",
      "\u001b[1;31mNotImplementedError\u001b[0m: This has not yet been implemented !"
     ]
    }
   ],
   "source": [
    "# Raise errors:\n",
    "\n",
    "def errors():\n",
    "    raise NotImplementedError(\"This has not yet been implemented !\")\n",
    "    \n",
    "    \n",
    "    \n",
    "errors()"
   ]
  },
  {
   "cell_type": "markdown",
   "metadata": {},
   "source": [
    "Raising errors purposely within a code is quiet useful so as to help developers debug or understand the flow of code.\n",
    "\n",
    "In this section , we will utilize an example to better understand the concept of errors.\n",
    "\n",
    "Example:\n",
    "    Assume there is a class of Cars with properties (make , model and color).\n",
    "    Assume a class Garage that hosts cars for sale.\n",
    "    A code is written to add cars to the garage and accessing the properties of required car."
   ]
  },
  {
   "cell_type": "code",
   "execution_count": 4,
   "metadata": {},
   "outputs": [
    {
     "name": "stdout",
     "output_type": "stream",
     "text": [
      "Your input is not a car\n",
      "Garage has 0 cars\n"
     ]
    }
   ],
   "source": [
    "class Car:\n",
    "    def __init__(self,make,color):\n",
    "        self.make=make\n",
    "        self.color=color\n",
    "        \n",
    "    def __repr__(self):\n",
    "        return f'Car : {self.make} and color {self.color}'\n",
    "\n",
    "\n",
    "\n",
    "class Garage:\n",
    "    def __init__(self):\n",
    "        self.cars=[]\n",
    "        \n",
    "    def __len__(self):\n",
    "        return len(self.cars)\n",
    "    \n",
    "    \n",
    "    \n",
    "    def add_car(self,car): \n",
    "        if not isinstance(car, Car):\n",
    "            raise TypeError(f\"Tried to add a '{car.__class__.__name__}' to garage to which you can only add 'Car' Objects\")\n",
    "        #No need for else statement here since when the error is raised, program crashes there. Neat eh?\n",
    "        \n",
    "        self.cars.append(car)\n",
    "        #isinstance checks if first parameter is the same type as second parameter..so here it checks whether car is\n",
    "        #an object of Car class\n",
    "                \n",
    "                \n",
    "                \n",
    "ford=Garage()\n",
    "car=Car('Fiesta','Grey')\n",
    "test='car'\n",
    "\n",
    "try:\n",
    "    ford.add_car(test)\n",
    "except TypeError:\n",
    "    print('Your input is not a car')\n",
    "    \n",
    "except ValueError:\n",
    "    pass\n",
    "finally:\n",
    "    print(f\"Garage has {len(ford)} cars\")   # This will execute no matter what after try block has been executed.\n",
    "\n",
    "\n",
    "\n",
    "\n",
    "#ford.add_car(car)\n",
    "#print(len(ford))\n",
    "                \n",
    "                \n",
    "                \n",
    "                \n",
    "                \n",
    "                #construct : (car.__class__.__name__)"
   ]
  },
  {
   "cell_type": "code",
   "execution_count": 5,
   "metadata": {},
   "outputs": [
    {
     "ename": "customerror",
     "evalue": "Error code 400 : Try Again",
     "output_type": "error",
     "traceback": [
      "\u001b[1;31m---------------------------------------------------------------------------\u001b[0m",
      "\u001b[1;31mcustomerror\u001b[0m                               Traceback (most recent call last)",
      "\u001b[1;32m<ipython-input-5-faa70f27f6f2>\u001b[0m in \u001b[0;36m<module>\u001b[1;34m\u001b[0m\n\u001b[0;32m      9\u001b[0m \u001b[1;33m\u001b[0m\u001b[0m\n\u001b[0;32m     10\u001b[0m \u001b[1;33m\u001b[0m\u001b[0m\n\u001b[1;32m---> 11\u001b[1;33m \u001b[1;32mraise\u001b[0m \u001b[0mcustomerror\u001b[0m\u001b[1;33m(\u001b[0m\u001b[1;34m'Try Again'\u001b[0m\u001b[1;33m,\u001b[0m\u001b[1;36m400\u001b[0m\u001b[1;33m)\u001b[0m\u001b[1;33m\u001b[0m\u001b[1;33m\u001b[0m\u001b[0m\n\u001b[0m",
      "\u001b[1;31mcustomerror\u001b[0m: Error code 400 : Try Again"
     ]
    }
   ],
   "source": [
    "#Example to write own custom error. Custom errors are defined as sub-classes of a superclass-error. Here, Type error is used\n",
    "# as parent class.\n",
    "\n",
    "class customerror(TypeError):\n",
    "    def __init__(self,message,code):\n",
    "        super().__init__(f'Error code {code} : {message}')\n",
    "        self.code=code\n",
    "        \n",
    "\n",
    "\n",
    "raise customerror('Try Again',400)"
   ]
  },
  {
   "cell_type": "code",
   "execution_count": 7,
   "metadata": {},
   "outputs": [],
   "source": [
    "#Framework code to use try except along with raising errors.\n",
    "\n",
    "try:\n",
    "    pass\n",
    "except KeyError:\n",
    "    print('')\n",
    "    raise  # this will reraise the error and give us information about the error which was previously muted with the print statement\n",
    "    \n",
    "else:\n",
    "    pass # this will execute when the error is not raised"
   ]
  },
  {
   "cell_type": "code",
   "execution_count": 9,
   "metadata": {},
   "outputs": [
    {
     "name": "stdout",
     "output_type": "stream",
     "text": [
      "Enter a number : ok\n",
      "wrong input\n",
      "im executed no matter what\n",
      "0\n"
     ]
    },
    {
     "data": {
      "text/plain": [
       "0"
      ]
     },
     "execution_count": 9,
     "metadata": {},
     "output_type": "execute_result"
    }
   ],
   "source": [
    "#Example to use ValueError . Instead of inputting float , string is given.\n",
    "\n",
    "def sq():\n",
    "    n=input(\"Enter a number : \")\n",
    "    try:\n",
    "        a=float(n)\n",
    "    except ValueError:\n",
    "        print('wrong input')\n",
    "        return 0\n",
    "    finally:\n",
    "        print('im executed no matter what')\n",
    "    \n",
    "    \n",
    "a=sq()\n",
    "print(a)     # if finally has a return statement then it takes priority ad only it will return the value out of \n",
    "             # funciton\n",
    "a"
   ]
  },
  {
   "cell_type": "code",
   "execution_count": 11,
   "metadata": {},
   "outputs": [
    {
     "name": "stdout",
     "output_type": "stream",
     "text": [
      "The garage now has 1 cars.\n"
     ]
    }
   ],
   "source": [
    "#Complete code:\n",
    "\n",
    "class Car:\n",
    "    def __init__(self, make, model):\n",
    "        self.make = make\n",
    "        self.model = model\n",
    "\n",
    "    def __repr__(self):\n",
    "        return f'<Car {self.make} {self.model}>'\n",
    "\n",
    "\n",
    "class Garage:\n",
    "    def __init__(self):\n",
    "        self.cars = []\n",
    "\n",
    "    def __len__(self):\n",
    "        return len(self.cars)\n",
    "\n",
    "    def add_car(self, car):\n",
    "        if not isinstance(car, Car):\n",
    "            raise ValueError(f'Tried to add a `{car.__class__.__name__}` to the garage, but you can only add `Car` objects.')\n",
    "        self.cars.append(car)\n",
    "\n",
    "\n",
    "ford = Garage()\n",
    "fiesta = Car('Ford', 'Fiesta')\n",
    "\n",
    "\n",
    "# will try to add ford-fiesta car into ford garage\n",
    "\n",
    "try:\n",
    "    #ford.add_car('Fiesta')\n",
    "    ford.add_car(fiesta)\n",
    "except TypeError:\n",
    "    print('Your car was not a Car!')\n",
    "except ValueError:\n",
    "    print('Something weird happened...')\n",
    "finally:\n",
    "    print(f'The garage now has {len(ford)} cars.')"
   ]
  },
  {
   "cell_type": "code",
   "execution_count": 12,
   "metadata": {},
   "outputs": [
    {
     "name": "stdout",
     "output_type": "stream",
     "text": [
      "Something weird happened...\n",
      "The garage now has 0 cars.\n"
     ]
    }
   ],
   "source": [
    "#Complete code:\n",
    "\n",
    "class Car:\n",
    "    def __init__(self, make, model):\n",
    "        self.make = make\n",
    "        self.model = model\n",
    "\n",
    "    def __repr__(self):\n",
    "        return f'<Car {self.make} {self.model}>'\n",
    "\n",
    "\n",
    "class Garage:\n",
    "    def __init__(self):\n",
    "        self.cars = []\n",
    "\n",
    "    def __len__(self):\n",
    "        return len(self.cars)\n",
    "\n",
    "    def add_car(self, car):\n",
    "        if not isinstance(car, Car):\n",
    "            raise ValueError(f'Tried to add a `{car.__class__.__name__}` to the garage, but you can only add `Car` objects.')\n",
    "        self.cars.append(car)\n",
    "\n",
    "\n",
    "ford = Garage()\n",
    "fiesta = Car('Ford', 'Fiesta')\n",
    "\n",
    "\n",
    "# will try to add ford-fiesta car into ford garage\n",
    "\n",
    "try:\n",
    "    ford.add_car('Fiesta')   #Fiesta is not a car.\n",
    "    \n",
    "except TypeError:\n",
    "    print('Your car was not a Car!')\n",
    "except ValueError:\n",
    "    print('Something weird happened...')\n",
    "finally:\n",
    "    print(f'The garage now has {len(ford)} cars.')"
   ]
  }
 ],
 "metadata": {
  "kernelspec": {
   "display_name": "Python 3",
   "language": "python",
   "name": "python3"
  },
  "language_info": {
   "codemirror_mode": {
    "name": "ipython",
    "version": 3
   },
   "file_extension": ".py",
   "mimetype": "text/x-python",
   "name": "python",
   "nbconvert_exporter": "python",
   "pygments_lexer": "ipython3",
   "version": "3.8.3"
  }
 },
 "nbformat": 4,
 "nbformat_minor": 4
}
