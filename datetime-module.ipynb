{
 "cells": [
  {
   "cell_type": "code",
   "execution_count": 2,
   "metadata": {},
   "outputs": [
    {
     "name": "stdout",
     "output_type": "stream",
     "text": [
      "2021-01-11 17:24:47.501894\n"
     ]
    }
   ],
   "source": [
    "from datetime import datetime\n",
    "print(datetime.now())  #naive datetime since it doesnt know time zone."
   ]
  },
  {
   "cell_type": "code",
   "execution_count": 7,
   "metadata": {},
   "outputs": [
    {
     "name": "stdout",
     "output_type": "stream",
     "text": [
      "2021-01-11 11:57:55.921490+00:00\n"
     ]
    }
   ],
   "source": [
    "from datetime import datetime,timezone\n",
    "print(datetime.now(timezone.utc))  #Timezone Aware object"
   ]
  },
  {
   "cell_type": "code",
   "execution_count": 27,
   "metadata": {},
   "outputs": [
    {
     "name": "stdout",
     "output_type": "stream",
     "text": [
      "2021-01-11 17:24:28.680144+00:00\n",
      "2021-01-12 17:24:28.680144+00:00\n"
     ]
    }
   ],
   "source": [
    "from datetime import timedelta\n",
    "today=datetime.now(timezone.utc)\n",
    "tomorrow=today + timedelta(days=1)\n",
    "\n",
    "print(today)\n",
    "print(tomorrow)"
   ]
  },
  {
   "cell_type": "code",
   "execution_count": 12,
   "metadata": {},
   "outputs": [
    {
     "name": "stdout",
     "output_type": "stream",
     "text": [
      "11-01-2021\n",
      "11-01-2021 12:01\n"
     ]
    }
   ],
   "source": [
    "print(today.strftime('%d-%m-%Y'))   # can add %S to print out the seconds\n",
    "print(today.strftime('%d-%m-%Y %H:%M'))  #string format time"
   ]
  },
  {
   "cell_type": "code",
   "execution_count": 19,
   "metadata": {},
   "outputs": [
    {
     "name": "stdout",
     "output_type": "stream",
     "text": [
      "Enter the date in YYYY-MM-DD format : 1992-12-09\n",
      "1992-12-09 00:00:00\n"
     ]
    }
   ],
   "source": [
    "userdate=input('Enter the date in YYYY-MM-DD format : ')\n",
    "userdate=datetime.strptime(userdate,'%Y-%m-%d')   #String Parse time\n",
    "print(userdate)"
   ]
  },
  {
   "cell_type": "code",
   "execution_count": 1,
   "metadata": {},
   "outputs": [
    {
     "name": "stdout",
     "output_type": "stream",
     "text": [
      "3.037128448486328\n"
     ]
    }
   ],
   "source": [
    "import time\n",
    "\n",
    "# timing the code-execution-duration\n",
    "\n",
    "def powers(limit):\n",
    "    return [x**2 for x in range(limit)]\n",
    "\n",
    "start=time.time()\n",
    "powers(5000000)\n",
    "end=time.time()\n",
    "print(end-start)"
   ]
  },
  {
   "cell_type": "code",
   "execution_count": 2,
   "metadata": {},
   "outputs": [
    {
     "name": "stdout",
     "output_type": "stream",
     "text": [
      "0.024981975555419922\n"
     ]
    }
   ],
   "source": [
    "#Defining a function to calculate runtime of another function.\n",
    "\n",
    "def runtime(func):\n",
    "    start=time.time()\n",
    "    func()\n",
    "    end=time.time()\n",
    "    print(end-start)\n",
    "    return\n",
    "\n",
    "def powers(limit):\n",
    "    return [x**2 for x in range(limit)]\n",
    "\n",
    "\n",
    "runtime(lambda:powers(50000))"
   ]
  }
 ],
 "metadata": {
  "kernelspec": {
   "display_name": "Python 3",
   "language": "python",
   "name": "python3"
  },
  "language_info": {
   "codemirror_mode": {
    "name": "ipython",
    "version": 3
   },
   "file_extension": ".py",
   "mimetype": "text/x-python",
   "name": "python",
   "nbconvert_exporter": "python",
   "pygments_lexer": "ipython3",
   "version": "3.8.3"
  }
 },
 "nbformat": 4,
 "nbformat_minor": 4
}
