{
 "cells": [
  {
   "cell_type": "markdown",
   "metadata": {},
   "source": [
    "Modes : \n",
    "    r - read mode\n",
    "    w - write mode / clear existing content and overwrite\n",
    "    a - append mode / retain existing content and add extra"
   ]
  },
  {
   "cell_type": "code",
   "execution_count": 13,
   "metadata": {},
   "outputs": [
    {
     "name": "stdout",
     "output_type": "stream",
     "text": [
      "{'name': 'Prashanth', 'movies': [{'name': 'Mummy', 'genre': 'horror', 'watched': False}, {'name': 'pokemon', 'genre': 'anime', 'watched': False}]}\n"
     ]
    }
   ],
   "source": [
    "my_file=open('my_file.txt','r')\n",
    "content1=my_file.read()\n",
    "my_file.close()\n",
    "print(content1)"
   ]
  },
  {
   "cell_type": "code",
   "execution_count": 12,
   "metadata": {},
   "outputs": [],
   "source": [
    "my_file=open('my_file.txt','w')    # 'w' will delte the file data and overwrite the new data...\n",
    "content={\"name\": \"Prashanth\", \"movies\": [{\"name\": \"Mummy\", \"genre\": \"horror\", \"watched\": False}, {\"name\": \"pokemon\", \"genre\": \"anime\", \"watched\": False}]}\n",
    "my_file.write(str(content))\n",
    "my_file.close()\n",
    "\n",
    "#if inputs are needed, write code such that file remains open for shortest time possible...For example\n",
    "#after file is opened, if user forgets to give input , the file will remain opened.."
   ]
  },
  {
   "cell_type": "code",
   "execution_count": 3,
   "metadata": {},
   "outputs": [],
   "source": [
    "# To write into a file \n",
    "file=open('friends.txt','w')\n",
    "friends=['ramesh','suresh','paramesh']\n",
    "for friend in friends:\n",
    "    file.write(friend)\n",
    "file.close()"
   ]
  },
  {
   "cell_type": "code",
   "execution_count": 4,
   "metadata": {},
   "outputs": [
    {
     "name": "stdout",
     "output_type": "stream",
     "text": [
      "['prashanth,28,bangalore', 'ravi,29,mandya', 'sahana,24,mysore']\n"
     ]
    }
   ],
   "source": [
    "file=open('ccsv.txt','r')\n",
    "contents=file.readlines()\n",
    "file.close()\n",
    "line=[line.strip()for line in contents[1:]]   # Strip() removes any leading and ending spaces.\n",
    "print(line)\n"
   ]
  },
  {
   "cell_type": "markdown",
   "metadata": {},
   "source": [
    "Difference between python dictionary and json:\n",
    "    1. contents of a json is string.\n",
    "    2. json uses double quotation marks only for a key , dictionary can use both.\n",
    "    3. In java script, {...} is an object but dictionary in python.\n",
    "    "
   ]
  },
  {
   "cell_type": "code",
   "execution_count": 7,
   "metadata": {},
   "outputs": [],
   "source": [
    "#JSON is Java Script Object Notation used to store data as key-value pair.\n",
    " \n",
    "#Writing data ont a file using json\n",
    "\n",
    "import json\n",
    "cars=[\n",
    "    {'model':'Ford','make':'Fiesta'},\n",
    "    {'model':'Ford','make':'Fiesta'}\n",
    "]\n",
    "file=open('json_temp.txt','w')\n",
    "json.dump(cars,file)\n",
    "file.close()"
   ]
  },
  {
   "cell_type": "code",
   "execution_count": 8,
   "metadata": {},
   "outputs": [
    {
     "data": {
      "text/plain": [
       "[{'model': 'Ford', 'make': 'Fiesta'}, {'model': 'Ford', 'make': 'Fiesta'}]"
      ]
     },
     "execution_count": 8,
     "metadata": {},
     "output_type": "execute_result"
    }
   ],
   "source": [
    "import json\n",
    "file=open('json_temp.txt','r')\n",
    "content=json.load(file)\n",
    "content"
   ]
  },
  {
   "cell_type": "markdown",
   "metadata": {},
   "source": [
    "Difference between load and loads in json:\n",
    "    load methods loads a file as a dictionary but loads turns a string into a dictionary.. load S for load string\n",
    "\n",
    "IMPORTANT:\n",
    "    JSON DOES NOT ALLOW TUPLES...ALLOWS ONLY LISTS AND DICTIONARIES.\n",
    "    \n",
    "    \n",
    "DONOT LOAD AN OBJECT INTO A DICTIONARY...COS IT WILL TURN INTO A STRING USING REPR FUNCTION AND MIGHT GET CONFUSING..SO DEFINE\n",
    "A JSON FORMAT FOR THAT OBJECT WITHIN THE CLASS...\n"
   ]
  },
  {
   "cell_type": "markdown",
   "metadata": {},
   "source": [
    "New Terms:\n",
    "    setup vs tear down ... example : file opening in python , opening and closing a database connection."
   ]
  },
  {
   "cell_type": "code",
   "execution_count": null,
   "metadata": {},
   "outputs": [],
   "source": [
    "with open('my_file.txt','r') as file:\n",
    "    content=json.load(file)\n",
    "    \n",
    "# With is a context manager....cannot use it with anything we want..it has to be defined with the function..\n",
    "\n",
    "# ADVANTAGE : when opened using \"with\" , we dont have to worry about closing file after using it..."
   ]
  }
 ],
 "metadata": {
  "kernelspec": {
   "display_name": "Python 3",
   "language": "python",
   "name": "python3"
  },
  "language_info": {
   "codemirror_mode": {
    "name": "ipython",
    "version": 3
   },
   "file_extension": ".py",
   "mimetype": "text/x-python",
   "name": "python",
   "nbconvert_exporter": "python",
   "pygments_lexer": "ipython3",
   "version": "3.8.3"
  }
 },
 "nbformat": 4,
 "nbformat_minor": 4
}
