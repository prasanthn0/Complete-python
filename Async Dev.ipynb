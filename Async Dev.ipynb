{
 "cells": [
  {
   "cell_type": "code",
   "execution_count": null,
   "metadata": {},
   "outputs": [],
   "source": [
    "Dining philosopher's problem:\n",
    "5 forks , 5 philosophers.\n",
    "only 2 can be server at a time. all 5 cannont be served simultaneously.\n",
    "if the forks are shared quickly enough with least possible time, it might seem noone is left out.."
   ]
  },
  {
   "cell_type": "code",
   "execution_count": null,
   "metadata": {},
   "outputs": [],
   "source": [
    "Thread is a line of code execution. \n",
    "Each core can run 1 thread at a time.\n",
    "\n",
    "\n",
    "\n",
    "A core will run a thread and the wrapper or the package is a process.\n",
    "A process contains atleast one thread + some resources set aside for operating system(like a networks connection, hard drive\n",
    "                                                                                     file pointers etc.)\n",
    "\n",
    "These resources continuously change. \n",
    "Thread is what runs and process is what manages all the resources that is needed to run.\n"
   ]
  },
  {
   "cell_type": "code",
   "execution_count": null,
   "metadata": {},
   "outputs": [],
   "source": [
    "Python GIL \n",
    "        GLOBAL INTERPRETER LOCK\n",
    "    The Python Global Interpreter Lock or GIL, in simple words, is a mutex (or a lock) that allows only one thread to hold the\n",
    "    control of the Python interpreter.\n",
    "    This means that only one thread can be in a state of execution at any point in time.\n",
    "    \n",
    "    \n",
    "What is the benefit of making more threads if only one thread can run in a core at a time?\n",
    "Because there can be more cores.\n",
    "\n",
    "Each process creates a key resources or critical resource. It must acquire it. This key resources is called GIL.\n",
    "\n",
    "What is the point of threads?\n",
    "Lets say u have 2 programs.\n",
    "one does complex calculation and takes long time.\n",
    "ANother does user interface functions. This can take long time since user can take long time to type/input.\n",
    "\n",
    "1. Computer is being used  for a long time.\n",
    "2. Computer is waiting for a long time.\n",
    "\n",
    "Solution : CO-OPERATIVE MULTITASKING.\n",
    "    Ask the user and wait for input and immediately releases GIL and other can acquire it and run and then release for first \n",
    "    program to use and so on.\n",
    "    \n",
    "    \n",
    "THREAD IN PYTHON IS TO REDUCE WAITING TIME.\n"
   ]
  },
  {
   "cell_type": "code",
   "execution_count": 2,
   "metadata": {},
   "outputs": [
    {
     "name": "stdout",
     "output_type": "stream",
     "text": [
      "Enter your name: prashanth\n",
      "Hello prashanth , Welcome to XYZ\n",
      "ask_user time is 2.929628610610962\n",
      "Calculating...\n",
      "calc time is 0.5349011421203613\n",
      "total time is 3.479698419570923\n"
     ]
    }
   ],
   "source": [
    "import time\n",
    "\n",
    "\n",
    "def ask_user():\n",
    "    s1=time.time()\n",
    "    user_name=input('Enter your name: ')\n",
    "    greet=f'Hello {user_name} , Welcome to XYZ'\n",
    "    print(greet)\n",
    "    print(f'ask_user time is {time.time()-start}')\n",
    "    \n",
    "def calc():\n",
    "    s2=time.time()\n",
    "    print('Calculating...')\n",
    "    b=[x**2 for x in range(1000000)]\n",
    "    print(f'calc time is {time.time()-s2}')\n",
    "    \n",
    "start=time.time()    \n",
    "ask_user()\n",
    "calc()\n",
    "print(f'total time is {time.time()-start}')"
   ]
  },
  {
   "cell_type": "code",
   "execution_count": 3,
   "metadata": {},
   "outputs": [
    {
     "name": "stdout",
     "output_type": "stream",
     "text": [
      "Enter your name: prashanth\n",
      "Hello prashanth , Welcome to XYZ\n",
      "ask_user time is 12.692781209945679\n",
      "Calculating...\n",
      "calc time is 0.5273876190185547\n",
      "total time is 13.239768266677856\n"
     ]
    }
   ],
   "source": [
    "import time\n",
    "\n",
    "\n",
    "def ask_user():\n",
    "    s1=time.time()\n",
    "    user_name=input('Enter your name: ')\n",
    "    greet=f'Hello {user_name} , Welcome to XYZ'\n",
    "    print(greet)\n",
    "    print(f'ask_user time is {time.time()-start}')\n",
    "    \n",
    "def calc():\n",
    "    s2=time.time()\n",
    "    print('Calculating...')\n",
    "    b=[x**2 for x in range(1000000)]\n",
    "    print(f'calc time is {time.time()-s2}')\n",
    "    \n",
    "start=time.time()    \n",
    "ask_user()\n",
    "calc()\n",
    "print(f'total time is {time.time()-start}')"
   ]
  },
  {
   "cell_type": "code",
   "execution_count": null,
   "metadata": {},
   "outputs": [],
   "source": [
    "About 2 cases were run SEQUENTIALLY."
   ]
  },
  {
   "cell_type": "code",
   "execution_count": 5,
   "metadata": {},
   "outputs": [
    {
     "name": "stdout",
     "output_type": "stream",
     "text": [
      "Enter your name: prashanth\n",
      "Hello prashanth , Welcome to XYZ\n",
      "ask_user time is 3.623936653137207\n",
      "Calculating...\n",
      "calc time is 0.4890298843383789\n",
      "total time is 4.1598498821258545\n",
      "Calculating...\n",
      "calc time is 0.701505184173584\n",
      "Enter your name: prashanth\n",
      "Hello prashanth , Welcome to XYZ\n",
      "ask_user time is 8.233621835708618\n",
      "2 threads total time 8.233621835708618\n"
     ]
    }
   ],
   "source": [
    "import time\n",
    "from threading import Thread\n",
    "\n",
    "\n",
    "def ask_user():\n",
    "    s1=time.time()\n",
    "    user_name=input('Enter your name: ')\n",
    "    greet=f'Hello {user_name} '\n",
    "    print(greet)\n",
    "    print(f'ask_user time is {time.time()-start}')\n",
    "    \n",
    "def calc():\n",
    "    s2=time.time()\n",
    "    print('Calculating...')\n",
    "    b=[x**2 for x in range(1000000)]\n",
    "    print(f'calc time is {time.time()-s2}')\n",
    "    \n",
    "start=time.time()    \n",
    "ask_user()\n",
    "calc()\n",
    "print(f'total time is {time.time()-start}')\n",
    "\n",
    "\n",
    "\n",
    "thread1=Thread(target=ask_user)\n",
    "thread2=Thread(target=calc)\n",
    "\n",
    "\n",
    "t3=time.time()\n",
    "thread1.start()\n",
    "thread2.start()\n",
    "# 3 threads.. 1 main and these 2.. \n",
    "thread1.join()\n",
    "thread2.join()\n",
    "#blocking operations.. THis will make main thread to wait these 2 are finished.\n",
    "\n",
    "print(f'2 threads total time {time.time()-start}')"
   ]
  },
  {
   "cell_type": "code",
   "execution_count": 6,
   "metadata": {},
   "outputs": [
    {
     "name": "stdout",
     "output_type": "stream",
     "text": [
      "Enter your name: prasha\n",
      "Hello prasha \n",
      "ask_user time is 2.181922197341919\n",
      "Calculating...\n",
      "calc time is 0.49190640449523926\n",
      "total time is 2.689457416534424\n",
      "Calculating...\n",
      "Calculating...\n",
      "calc time is 0.8489410877227783\n",
      "calc time is 0.9832792282104492\n",
      "2 threads total time 3.7508602142333984\n"
     ]
    }
   ],
   "source": [
    "import time\n",
    "from threading import Thread\n",
    "\n",
    "\n",
    "def ask_user():\n",
    "    s1=time.time()\n",
    "    user_name=input('Enter your name: ')\n",
    "    greet=f'Hello {user_name} '\n",
    "    print(greet)\n",
    "    print(f'ask_user time is {time.time()-start}')\n",
    "    \n",
    "def calc():\n",
    "    s2=time.time()\n",
    "    print('Calculating...')\n",
    "    b=[x**2 for x in range(1000000)]\n",
    "    print(f'calc time is {time.time()-s2}')\n",
    "    \n",
    "start=time.time()    \n",
    "ask_user()\n",
    "calc()\n",
    "print(f'total time is {time.time()-start}')\n",
    "\n",
    "\n",
    "\n",
    "thread1=Thread(target=calc)\n",
    "thread2=Thread(target=calc)\n",
    "\n",
    "\n",
    "t3=time.time()\n",
    "thread1.start()\n",
    "thread2.start()\n",
    "# 3 threads.. 1 main and these 2.. \n",
    "thread1.join()\n",
    "thread2.join()\n",
    "#blocking operations.. THis will make main thread to wait these 2 are finished.\n",
    "\n",
    "print(f'2 threads total time {time.time()-start}')"
   ]
  },
  {
   "cell_type": "markdown",
   "metadata": {},
   "source": [
    "note , threading for complex calculation has actually doubled the time ( 0.49 to 0.84 and 0.983) This is because there is time\n",
    "being used up removing and adding thread alternatively. Hence dont use threads if a process requires CPU all the time."
   ]
  },
  {
   "cell_type": "code",
   "execution_count": null,
   "metadata": {},
   "outputs": [],
   "source": [
    "from concurrent.futures import ThreadPoolExecutor   #famous module....\n",
    "\n",
    "with ThreadPoolExecutor(max_workers=2) as pool:  #creates a pool of empty threads and can be used later dynamically\n",
    "    pool.submit(calc)\n",
    "    pool.submit(ask_user)"
   ]
  },
  {
   "cell_type": "code",
   "execution_count": null,
   "metadata": {},
   "outputs": [],
   "source": [
    "KILLING THE THREADS :\n",
    "    Manually killing the threads while they are still executing can kill the resources (GIL) if they are not\n",
    "    released before . Other threads cant pick up the GIL that was assigned to the first one.  #DEADLOCK\n",
    "    "
   ]
  },
  {
   "cell_type": "code",
   "execution_count": null,
   "metadata": {},
   "outputs": [],
   "source": [
    "MULTIPROCESSING:\n",
    "        "
   ]
  },
  {
   "cell_type": "code",
   "execution_count": 9,
   "metadata": {},
   "outputs": [
    {
     "name": "stdout",
     "output_type": "stream",
     "text": [
      "Enter your name: prashanth\n",
      "Hello prashanth \n",
      "ask_user time is 973.509304523468\n",
      "2 process time is 2.496448278427124\n"
     ]
    }
   ],
   "source": [
    "from multiprocessing import Process\n",
    "process1=Process(target=calc)\n",
    "process1.start()\n",
    "s1=time.time()\n",
    "ask_user()\n",
    "process1.join()\n",
    "print(f'2 process time is {time.time()-s1}')\n"
   ]
  },
  {
   "cell_type": "code",
   "execution_count": 2,
   "metadata": {},
   "outputs": [
    {
     "name": "stdout",
     "output_type": "stream",
     "text": [
      "2 process time is 0.24804449081420898\n"
     ]
    }
   ],
   "source": [
    "from multiprocessing import Process\n",
    "import time\n",
    "\n",
    "\n",
    "def ask_user():\n",
    "    s1=time.time()\n",
    "    user_name=input('Enter your name: ')\n",
    "    greet=f'Hello {user_name} , Welcome to XYZ'\n",
    "    print(greet)\n",
    "    print(f'ask_user time is {time.time()-start}')\n",
    "    \n",
    "def calc():\n",
    "    s2=time.time()\n",
    "    print('Calculating...')\n",
    "    b=[x**10 for x in range(1000000)]\n",
    "    print(f'calc time is {time.time()-s2}')\n",
    "\n",
    "process1=Process(target=calc)\n",
    "process2=Process(target=ask_user)\n",
    "process1.start()\n",
    "process2.start()\n",
    "\n",
    "s1=time.time()\n",
    "\n",
    "process1.join()\n",
    "process2.join()\n",
    "\n",
    "print(f'2 process time is {time.time()-s1}')\n"
   ]
  },
  {
   "cell_type": "code",
   "execution_count": 2,
   "metadata": {},
   "outputs": [
    {
     "name": "stdout",
     "output_type": "stream",
     "text": [
      "New Counter Value : 1\n",
      "------------------\n",
      "New Counter Value : 2\n",
      "------------------\n",
      "New Counter Value : 3\n",
      "------------------\n",
      "New Counter Value : 4\n",
      "------------------\n",
      "New Counter Value : 5\n",
      "------------------\n",
      "New Counter Value : 6\n",
      "------------------\n",
      "New Counter Value : 7\n",
      "------------------\n",
      "New Counter Value : 8\n",
      "------------------\n",
      "New Counter Value : 9\n",
      "------------------\n",
      "New Counter Value : 10\n",
      "------------------\n"
     ]
    }
   ],
   "source": [
    "import time\n",
    "from threading import Thread\n",
    "\n",
    "counter=0\n",
    "\n",
    "def counterplus():\n",
    "    global counter\n",
    "    counter+=1\n",
    "    print(f'New Counter Value : {counter}')\n",
    "    print('------------------')\n",
    "          \n",
    "for i in range(10):\n",
    "    counterplus()\n",
    "    "
   ]
  },
  {
   "cell_type": "code",
   "execution_count": 3,
   "metadata": {},
   "outputs": [
    {
     "name": "stdout",
     "output_type": "stream",
     "text": [
      "New Counter Value : 1\n",
      "------------------\n",
      "New Counter Value : 2\n",
      "------------------\n",
      "New Counter Value : 3\n",
      "------------------\n",
      "New Counter Value : 4\n",
      "------------------New Counter Value : 5\n",
      "------------------\n",
      "New Counter Value : 6\n",
      "\n",
      "------------------\n",
      "New Counter Value : 7\n",
      "------------------\n",
      "New Counter Value : 8\n",
      "------------------\n",
      "New Counter Value : 9\n",
      "New Counter Value : 10\n",
      "------------------\n",
      "------------------\n"
     ]
    }
   ],
   "source": [
    "import time\n",
    "from threading import Thread\n",
    "\n",
    "counter=0\n",
    "\n",
    "def counterplus():\n",
    "    global counter\n",
    "    counter+=1\n",
    "    print(f'New Counter Value : {counter}')\n",
    "    print('------------------')\n",
    "          \n",
    "for i in range(10):\n",
    "    t=Thread(target=counterplus)\n",
    "    t.start()\n",
    "    "
   ]
  },
  {
   "cell_type": "code",
   "execution_count": null,
   "metadata": {},
   "outputs": [],
   "source": [
    "Solution Thread+queue module = sequetial execution"
   ]
  },
  {
   "cell_type": "code",
   "execution_count": null,
   "metadata": {},
   "outputs": [],
   "source": [
    "A Class in Python has three types of access modifiers – \n",
    "\n",
    "Public Access Modifier\n",
    "Protected Access Modifier\n",
    "Private Access Modifier\n",
    "\n",
    "Public Access Modifier:\n",
    "The members of a class that are declared public are easily accessible from any part of the program. All data members\n",
    "and member functions of a class are public by default.\n",
    "\n",
    "\n",
    "\n",
    "Python uses ‘_’ symbol to determine the access control for a specific data member or a member function of a class. Access \n",
    "specifiers in Python have an important role to play in securing data from unauthorized access and in \n",
    "preventing it from being exploited.\n",
    "\n",
    "\n",
    "Public Access Modifier:\n",
    "The members of a class that are declared public are easily accessible from any part of the program. \n",
    "All data members and member functions of a class are public by default.\n",
    "\n",
    "Protected Access Modifier:\n",
    "The members of a class that are declared protected are only accessible to a class derived from it. \n",
    "Data members of a class are declared protected by adding a single underscore ‘_’ symbol before the data member of that class.\n",
    "\n",
    "Private Access Modifier:\n",
    "The members of a class that are declared private are accessible within the class only, \n",
    "K1\n",
    "private access modifier is the most secure access modifier. \n",
    "Data members of a class are declared private by adding a double underscore ‘__’ symbol before the data member of that class.\n"
   ]
  },
  {
   "cell_type": "code",
   "execution_count": 10,
   "metadata": {},
   "outputs": [
    {
     "name": "stdout",
     "output_type": "stream",
     "text": [
      "Geeks\n",
      "4\n"
     ]
    },
    {
     "ename": "AttributeError",
     "evalue": "'Sub' object has no attribute '_Sub__var3'",
     "output_type": "error",
     "traceback": [
      "\u001b[1;31m---------------------------------------------------------------------------\u001b[0m",
      "\u001b[1;31mAttributeError\u001b[0m                            Traceback (most recent call last)",
      "\u001b[1;32m<ipython-input-10-3f9842b71874>\u001b[0m in \u001b[0;36m<module>\u001b[1;34m\u001b[0m\n\u001b[0;32m     47\u001b[0m \u001b[0mobj\u001b[0m \u001b[1;33m=\u001b[0m \u001b[0mSub\u001b[0m\u001b[1;33m(\u001b[0m\u001b[1;34m\"Geeks\"\u001b[0m\u001b[1;33m,\u001b[0m \u001b[1;36m4\u001b[0m\u001b[1;33m,\u001b[0m \u001b[1;34m\"Geeks !\"\u001b[0m\u001b[1;33m)\u001b[0m\u001b[1;33m\u001b[0m\u001b[1;33m\u001b[0m\u001b[0m\n\u001b[0;32m     48\u001b[0m \u001b[1;33m\u001b[0m\u001b[0m\n\u001b[1;32m---> 49\u001b[1;33m \u001b[0mobj\u001b[0m\u001b[1;33m.\u001b[0m\u001b[0mtest\u001b[0m\u001b[1;33m(\u001b[0m\u001b[1;33m)\u001b[0m\u001b[1;33m\u001b[0m\u001b[1;33m\u001b[0m\u001b[0m\n\u001b[0m\u001b[0;32m     50\u001b[0m \u001b[1;33m\u001b[0m\u001b[0m\n\u001b[0;32m     51\u001b[0m \u001b[0mobj\u001b[0m\u001b[1;33m.\u001b[0m\u001b[0mdisplayPublicMembers\u001b[0m\u001b[1;33m(\u001b[0m\u001b[1;33m)\u001b[0m\u001b[1;33m\u001b[0m\u001b[1;33m\u001b[0m\u001b[0m\n",
      "\u001b[1;32m<ipython-input-10-3f9842b71874>\u001b[0m in \u001b[0;36mtest\u001b[1;34m(self)\u001b[0m\n\u001b[0;32m     38\u001b[0m         \u001b[0mprint\u001b[0m\u001b[1;33m(\u001b[0m\u001b[1;34mf'{self.var1}'\u001b[0m\u001b[1;33m)\u001b[0m\u001b[1;33m\u001b[0m\u001b[1;33m\u001b[0m\u001b[0m\n\u001b[0;32m     39\u001b[0m         \u001b[0mprint\u001b[0m\u001b[1;33m(\u001b[0m\u001b[1;34mf'{self._var2}'\u001b[0m\u001b[1;33m)\u001b[0m\u001b[1;33m\u001b[0m\u001b[1;33m\u001b[0m\u001b[0m\n\u001b[1;32m---> 40\u001b[1;33m         \u001b[0mprint\u001b[0m\u001b[1;33m(\u001b[0m\u001b[1;34mf'{self.__var3}'\u001b[0m\u001b[1;33m)\u001b[0m\u001b[1;33m\u001b[0m\u001b[1;33m\u001b[0m\u001b[0m\n\u001b[0m\u001b[0;32m     41\u001b[0m \u001b[1;33m\u001b[0m\u001b[0m\n\u001b[0;32m     42\u001b[0m \u001b[1;33m\u001b[0m\u001b[0m\n",
      "\u001b[1;31mAttributeError\u001b[0m: 'Sub' object has no attribute '_Sub__var3'"
     ]
    }
   ],
   "source": [
    "#ACCESS MODIFIERS \n",
    "\n",
    "\n",
    "class Super: \n",
    "    var1 = None\n",
    "    _var2 = None\n",
    "    __var3 = None\n",
    "      \n",
    "    \n",
    "    def __init__(self, var1, var2, var3):   \n",
    "        self.var1 = var1 \n",
    "        self._var2 = var2 \n",
    "        self.__var3 = var3 \n",
    "      \n",
    "      \n",
    "    def displayPublicMembers(self): \n",
    "   \n",
    "          \n",
    "        print(\"Public Data Member: \", self.var1) \n",
    "         \n",
    "        \n",
    "    def _displayProtectedMembers(self): \n",
    "   \n",
    "           \n",
    "        print(\"Protected Data Member: \", self._var2) \n",
    "       \n",
    "    \n",
    "    def __displayPrivateMembers(self): \n",
    "        print(\"Private Data Member: \", self.__var3) \n",
    "  \n",
    "     \n",
    "    def __accessPrivateMembers(self):\n",
    "        self.__displayPrivateMembers() \n",
    "   \n",
    " \n",
    "class Sub(Super): \n",
    "    def __init__(self, var1, var2, var3):\n",
    "        Super.__init__(self, var1, var2, var3) \n",
    "        \n",
    "    def test(self):\n",
    "        print(f'{self.var1}')\n",
    "        print(f'{self._var2}')\n",
    "        print(f'{self.__var3}')\n",
    "            \n",
    "       \n",
    "    def accessProtectedMemebers(self):\n",
    "        self._displayProtectedMembers() \n",
    "   \n",
    "     \n",
    "obj = Sub(\"Geeks\", 4, \"Geeks !\") \n",
    "\n",
    "obj.test()\n",
    "  \n",
    "obj.displayPublicMembers() \n",
    "obj.accessProtectedMemebers() \n",
    "obj.accessPrivateMembers()  \n",
    "  \n",
    "\n",
    "print(\"Object is accessing protected member:\", obj._var2) \n",
    "  \n",
    "\n",
    "\n",
    "\n",
    "\n"
   ]
  },
  {
   "cell_type": "code",
   "execution_count": 14,
   "metadata": {},
   "outputs": [
    {
     "name": "stdout",
     "output_type": "stream",
     "text": [
      "Hello Adam\n"
     ]
    },
    {
     "ename": "StopIteration",
     "evalue": "",
     "output_type": "error",
     "traceback": [
      "\u001b[1;31m---------------------------------------------------------------------------\u001b[0m",
      "\u001b[1;31mStopIteration\u001b[0m                             Traceback (most recent call last)",
      "\u001b[1;32m<ipython-input-14-6488ca0b9aa6>\u001b[0m in \u001b[0;36m<module>\u001b[1;34m\u001b[0m\n\u001b[0;32m      8\u001b[0m \u001b[0mg\u001b[0m\u001b[1;33m=\u001b[0m\u001b[0mgreet\u001b[0m\u001b[1;33m(\u001b[0m\u001b[1;33m)\u001b[0m\u001b[1;33m\u001b[0m\u001b[1;33m\u001b[0m\u001b[0m\n\u001b[0;32m      9\u001b[0m \u001b[0mg\u001b[0m\u001b[1;33m.\u001b[0m\u001b[0msend\u001b[0m\u001b[1;33m(\u001b[0m\u001b[1;32mNone\u001b[0m\u001b[1;33m)\u001b[0m \u001b[1;31m#Priming the generator . This runs the greet function right upto yield and suspend the function.\u001b[0m\u001b[1;33m\u001b[0m\u001b[1;33m\u001b[0m\u001b[0m\n\u001b[1;32m---> 10\u001b[1;33m \u001b[0mg\u001b[0m\u001b[1;33m.\u001b[0m\u001b[0msend\u001b[0m\u001b[1;33m(\u001b[0m\u001b[1;34m'Adam'\u001b[0m\u001b[1;33m)\u001b[0m\u001b[1;33m\u001b[0m\u001b[1;33m\u001b[0m\u001b[0m\n\u001b[0m\u001b[0;32m     11\u001b[0m \u001b[1;33m\u001b[0m\u001b[0m\n\u001b[0;32m     12\u001b[0m \u001b[0mnext\u001b[0m\u001b[1;33m(\u001b[0m\u001b[0mgreet\u001b[0m\u001b[1;33m)\u001b[0m\u001b[1;33m\u001b[0m\u001b[1;33m\u001b[0m\u001b[0m\n",
      "\u001b[1;31mStopIteration\u001b[0m: "
     ]
    }
   ],
   "source": [
    "#USING YIELD TO RECEIVE DATA AS OPPOSED TO ONLY GIVE IT BACK\n",
    "\n",
    "\n",
    "def greet():\n",
    "    name=yield\n",
    "    print(f'Hello {name}')\n",
    "    \n",
    "g=greet()\n",
    "g.send(None) #Priming the generator . This runs the greet function right upto yield and suspend the function.\n",
    "g.send('Adam')\n",
    "\n"
   ]
  },
  {
   "cell_type": "code",
   "execution_count": 22,
   "metadata": {},
   "outputs": [
    {
     "name": "stdout",
     "output_type": "stream",
     "text": [
      "Hello RAS\n",
      "Next command.....\n",
      "How are You?  MAEL\n"
     ]
    }
   ],
   "source": [
    "from collections import deque\n",
    "\n",
    "friends=deque(('Ras','Mael','Estarossa'))\n",
    "\n",
    "def friend_upper():\n",
    "    while friends:\n",
    "        friend=friends.popleft().upper()\n",
    "        greeting=yield    \n",
    "        #yield from greeting\n",
    "        print(f'{greeting} {friend}')\n",
    "        \n",
    "def greet(g):\n",
    "    g.send(None)\n",
    "    while True:\n",
    "        greeting=yield\n",
    "        #yield from greeting\n",
    "        g.send(greeting)\n",
    "        \n",
    "greeter=greet(friend_upper())\n",
    "greeter.send(None)\n",
    "greeter.send(\"Hello\")\n",
    "\n",
    "print('Next command.....')\n",
    "\n",
    "greeter.send('How are You? ')\n",
    "\n"
   ]
  },
  {
   "cell_type": "markdown",
   "metadata": {},
   "source": [
    "These are called Co-routines.\n",
    "No more a generator.."
   ]
  },
  {
   "cell_type": "code",
   "execution_count": 24,
   "metadata": {},
   "outputs": [
    {
     "name": "stdout",
     "output_type": "stream",
     "text": [
      "Hello RAS\n",
      "Next command.....\n",
      "How are You?  MAEL\n"
     ]
    }
   ],
   "source": [
    "from collections import deque\n",
    "from types import coroutine\n",
    "\n",
    "friends=deque(('Ras','Mael','Estarossa'))\n",
    "\n",
    "\n",
    "\n",
    "@coroutine\n",
    "def friend_upper():\n",
    "    while friends:\n",
    "        friend=friends.popleft().upper()\n",
    "        greeting=yield    \n",
    "        #yield from greeting\n",
    "        print(f'{greeting} {friend}')\n",
    "        \n",
    "async def greet(g):\n",
    "    \n",
    "    await g\n",
    "   \n",
    "        \n",
    "greeter=greet(friend_upper())\n",
    "greeter.send(None)\n",
    "greeter.send(\"Hello\")\n",
    "\n",
    "print('Next command.....')\n",
    "\n",
    "greeter.send('How are You? ')\n",
    "\n"
   ]
  },
  {
   "cell_type": "code",
   "execution_count": 26,
   "metadata": {},
   "outputs": [
    {
     "name": "stdout",
     "output_type": "stream",
     "text": [
      "Starting....\n",
      "Hello RAS\n",
      "Next command.....\n",
      "How are You?  MAEL\n",
      "How are You?  ESTAROSSA\n",
      "Ending....\n"
     ]
    },
    {
     "ename": "StopIteration",
     "evalue": "",
     "output_type": "error",
     "traceback": [
      "\u001b[1;31m---------------------------------------------------------------------------\u001b[0m",
      "\u001b[1;31mStopIteration\u001b[0m                             Traceback (most recent call last)",
      "\u001b[1;32m<ipython-input-26-14a3d161556c>\u001b[0m in \u001b[0;36m<module>\u001b[1;34m\u001b[0m\n\u001b[0;32m     27\u001b[0m \u001b[1;33m\u001b[0m\u001b[0m\n\u001b[0;32m     28\u001b[0m \u001b[0mgreeter\u001b[0m\u001b[1;33m.\u001b[0m\u001b[0msend\u001b[0m\u001b[1;33m(\u001b[0m\u001b[1;34m'How are You? '\u001b[0m\u001b[1;33m)\u001b[0m\u001b[1;33m\u001b[0m\u001b[1;33m\u001b[0m\u001b[0m\n\u001b[1;32m---> 29\u001b[1;33m \u001b[0mgreeter\u001b[0m\u001b[1;33m.\u001b[0m\u001b[0msend\u001b[0m\u001b[1;33m(\u001b[0m\u001b[1;34m'How are You? '\u001b[0m\u001b[1;33m)\u001b[0m\u001b[1;33m\u001b[0m\u001b[1;33m\u001b[0m\u001b[0m\n\u001b[0m\u001b[0;32m     30\u001b[0m \u001b[0mgreeter\u001b[0m\u001b[1;33m.\u001b[0m\u001b[0msend\u001b[0m\u001b[1;33m(\u001b[0m\u001b[1;34m'How are You? '\u001b[0m\u001b[1;33m)\u001b[0m\u001b[1;33m\u001b[0m\u001b[1;33m\u001b[0m\u001b[0m\n\u001b[0;32m     31\u001b[0m \u001b[0mgreeter\u001b[0m\u001b[1;33m.\u001b[0m\u001b[0msend\u001b[0m\u001b[1;33m(\u001b[0m\u001b[1;34m'How are You? '\u001b[0m\u001b[1;33m)\u001b[0m\u001b[1;33m\u001b[0m\u001b[1;33m\u001b[0m\u001b[0m\n",
      "\u001b[1;31mStopIteration\u001b[0m: "
     ]
    }
   ],
   "source": [
    "from collections import deque\n",
    "from types import coroutine\n",
    "\n",
    "friends=deque(('Ras','Mael','Estarossa'))\n",
    "\n",
    "\n",
    "\n",
    "@coroutine\n",
    "def friend_upper():\n",
    "    while friends:\n",
    "        friend=friends.popleft().upper()\n",
    "        greeting=yield    \n",
    "        #yield from greeting\n",
    "        print(f'{greeting} {friend}')\n",
    "        \n",
    "async def greet(g):\n",
    "    print('Starting....')\n",
    "    await g\n",
    "    print('Ending....')\n",
    "   \n",
    "        \n",
    "greeter=greet(friend_upper())\n",
    "greeter.send(None)\n",
    "greeter.send(\"Hello\")\n",
    "\n",
    "print('Next command.....')\n",
    "\n",
    "greeter.send('How are You? ')\n",
    "greeter.send('How are You? ')\n",
    "greeter.send('How are You? ')\n",
    "\n",
    "\n"
   ]
  },
  {
   "cell_type": "code",
   "execution_count": null,
   "metadata": {},
   "outputs": [],
   "source": [
    "Explanation....greeter.hello starts greet and suspends it and initiating friend_upper. Hence, ending is not printed cos\n",
    "the coroutine hasnt finished. It will finish only when the coroutine has gone through the list its iterating over.\n"
   ]
  },
  {
   "cell_type": "code",
   "execution_count": 30,
   "metadata": {},
   "outputs": [
    {
     "name": "stdout",
     "output_type": "stream",
     "text": [
      "Starting....\n",
      "Enter a greeting : Hello\n",
      "Hello RAS\n",
      "Enter a greeting : how are you\n",
      "how are you MAEL\n"
     ]
    }
   ],
   "source": [
    "from collections import deque\n",
    "from types import coroutine\n",
    "\n",
    "friends=deque(('Ras','Mael','Estarossa'))\n",
    "\n",
    "\n",
    "\n",
    "@coroutine\n",
    "def friend_upper():\n",
    "    while friends:\n",
    "        friend=friends.popleft().upper()\n",
    "        greeting=yield    \n",
    "        #yield from greeting\n",
    "        print(f'{greeting} {friend}')\n",
    "        \n",
    "async def greet(g):\n",
    "    print('Starting....')\n",
    "    await g\n",
    "    print('Ending....')\n",
    "   \n",
    "        \n",
    "greeter=greet(friend_upper())\n",
    "greeter.send(None)\n",
    "greeting=input('Enter a greeting : ')\n",
    "greeter.send(greeting)\n",
    "greeting=input('Enter a greeting : ')\n",
    "greeter.send(greeting)\n",
    "\n",
    "\n"
   ]
  },
  {
   "cell_type": "code",
   "execution_count": 36,
   "metadata": {},
   "outputs": [
    {
     "data": {
      "text/plain": [
       "'seku000000'"
      ]
     },
     "execution_count": 36,
     "metadata": {},
     "output_type": "execute_result"
    }
   ],
   "source": [
    "#titbit\n",
    "num='seku'\n",
    "num.ljust(10,'0')   #num.rjust(1)\n"
   ]
  }
 ],
 "metadata": {
  "kernelspec": {
   "display_name": "Python 3",
   "language": "python",
   "name": "python3"
  },
  "language_info": {
   "codemirror_mode": {
    "name": "ipython",
    "version": 3
   },
   "file_extension": ".py",
   "mimetype": "text/x-python",
   "name": "python",
   "nbconvert_exporter": "python",
   "pygments_lexer": "ipython3",
   "version": "3.8.3"
  }
 },
 "nbformat": 4,
 "nbformat_minor": 4
}
