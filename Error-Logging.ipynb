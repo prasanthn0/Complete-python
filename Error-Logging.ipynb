{
 "cells": [
  {
   "cell_type": "code",
   "execution_count": 1,
   "metadata": {},
   "outputs": [
    {
     "name": "stderr",
     "output_type": "stream",
     "text": [
      "This...\n"
     ]
    }
   ],
   "source": [
    "import logging\n",
    "\n",
    "\n",
    "\n",
    "\n",
    "logger=logging.getLogger('test_logger')\n",
    "logger.info('Check')\n",
    "logger.warning('This...')"
   ]
  },
  {
   "cell_type": "code",
   "execution_count": 2,
   "metadata": {},
   "outputs": [
    {
     "name": "stderr",
     "output_type": "stream",
     "text": [
      "2021-03-10 19:42:02,629 INFO:Check\n",
      "2021-03-10 19:42:02,631 WARNING:This...\n"
     ]
    }
   ],
   "source": [
    "\"\"\"\n",
    "Levels :\n",
    "\n",
    "WARNING\n",
    "INFO\n",
    "DEBUG\n",
    "ERROR\n",
    "CRITICAL\n",
    "\"\"\"\n",
    "\n",
    "\n",
    "import logging\n",
    "\n",
    "\n",
    "logging.basicConfig(format='%(asctime)s %(levelname)s:%(message)s' , level=logging.DEBUG)\n",
    "logger=logging.getLogger('test_logger2')\n",
    "logger.info('Check')\n",
    "logger.warning('This...')\n"
   ]
  },
  {
   "cell_type": "code",
   "execution_count": 3,
   "metadata": {},
   "outputs": [
    {
     "name": "stderr",
     "output_type": "stream",
     "text": [
      "2021-03-10 19:42:13,198 INFO:Check\n",
      "2021-03-10 19:42:13,202 WARNING:This is a warning message\n",
      "2021-03-10 19:42:13,217 DEBUG:This is a debug message\n",
      "2021-03-10 19:42:13,223 CRITICAL:critical error occured\n"
     ]
    }
   ],
   "source": [
    "import logging\n",
    "\n",
    "\n",
    "logging.basicConfig(format='%(asctime)s [%(filename)s : %(lineno)d] %(levelname)-8s %(message)s' , level=logging.DEBUG)\n",
    "logger=logging.getLogger('test_logger2')\n",
    "logger.info('Check')\n",
    "logger.warning('This is a warning message')\n",
    "logger.debug('This is a debug message')\n",
    "logger.critical('critical error occured')\n"
   ]
  },
  {
   "cell_type": "code",
   "execution_count": 5,
   "metadata": {},
   "outputs": [
    {
     "name": "stderr",
     "output_type": "stream",
     "text": [
      "2021-03-10 19:42:45,277 INFO:Check\n",
      "2021-03-10 19:42:45,279 WARNING:This is a warning message\n",
      "2021-03-10 19:42:45,281 DEBUG:This is a debug message\n",
      "2021-03-10 19:42:45,283 CRITICAL:critical error occured\n"
     ]
    }
   ],
   "source": [
    "import logging\n",
    "\n",
    "\n",
    "logging.basicConfig(format='%(asctime)s [%(filename)s : %(lineno)d] %(levelname)-8s %(message)s' , \n",
    "                    datefmt= '%d-%m-%Y %H:%M:%S',\n",
    "                    level=logging.DEBUG ,\n",
    "                    filename='logs.txt',\n",
    "                    )\n",
    "\n",
    "logger=logging.getLogger('test_logger2')\n",
    "logger.info('Check')\n",
    "logger.warning('This is a warning message')\n",
    "logger.debug('This is a debug message')\n",
    "logger.critical('critical error occured')"
   ]
  }
 ],
 "metadata": {
  "kernelspec": {
   "display_name": "Python 3",
   "language": "python",
   "name": "python3"
  },
  "language_info": {
   "codemirror_mode": {
    "name": "ipython",
    "version": 3
   },
   "file_extension": ".py",
   "mimetype": "text/x-python",
   "name": "python",
   "nbconvert_exporter": "python",
   "pygments_lexer": "ipython3",
   "version": "3.8.3"
  }
 },
 "nbformat": 4,
 "nbformat_minor": 4
}
